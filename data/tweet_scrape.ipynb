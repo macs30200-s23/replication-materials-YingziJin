{
 "cells": [
  {
   "cell_type": "code",
   "execution_count": 1,
   "metadata": {},
   "outputs": [
    {
     "name": "stdout",
     "output_type": "stream",
     "text": [
      "Collecting snscrape\n",
      "  Using cached snscrape-0.6.2.20230320-py3-none-any.whl (71 kB)\n",
      "Requirement already satisfied: lxml in /Users/axyz1220/anaconda3/lib/python3.10/site-packages (from snscrape) (4.9.1)\n",
      "Requirement already satisfied: requests[socks] in /Users/axyz1220/anaconda3/lib/python3.10/site-packages (from snscrape) (2.28.1)\n",
      "Requirement already satisfied: beautifulsoup4 in /Users/axyz1220/anaconda3/lib/python3.10/site-packages (from snscrape) (4.11.1)\n",
      "Requirement already satisfied: filelock in /Users/axyz1220/anaconda3/lib/python3.10/site-packages (from snscrape) (3.9.0)\n",
      "Requirement already satisfied: soupsieve>1.2 in /Users/axyz1220/anaconda3/lib/python3.10/site-packages (from beautifulsoup4->snscrape) (2.3.2.post1)\n",
      "Requirement already satisfied: charset-normalizer<3,>=2 in /Users/axyz1220/anaconda3/lib/python3.10/site-packages (from requests[socks]->snscrape) (2.0.4)\n",
      "Requirement already satisfied: idna<4,>=2.5 in /Users/axyz1220/anaconda3/lib/python3.10/site-packages (from requests[socks]->snscrape) (3.4)\n",
      "Requirement already satisfied: certifi>=2017.4.17 in /Users/axyz1220/anaconda3/lib/python3.10/site-packages (from requests[socks]->snscrape) (2022.12.7)\n",
      "Requirement already satisfied: urllib3<1.27,>=1.21.1 in /Users/axyz1220/anaconda3/lib/python3.10/site-packages (from requests[socks]->snscrape) (1.26.14)\n",
      "Requirement already satisfied: PySocks!=1.5.7,>=1.5.6 in /Users/axyz1220/anaconda3/lib/python3.10/site-packages (from requests[socks]->snscrape) (1.7.1)\n",
      "Installing collected packages: snscrape\n",
      "Successfully installed snscrape-0.6.2.20230320\n"
     ]
    }
   ],
   "source": [
    "! pip install snscrape"
   ]
  },
  {
   "cell_type": "code",
   "execution_count": 2,
   "metadata": {},
   "outputs": [],
   "source": [
    "import snscrape.modules.twitter as sntwitter\n",
    "import pandas as pd"
   ]
  },
  {
   "cell_type": "code",
   "execution_count": 7,
   "metadata": {},
   "outputs": [
    {
     "name": "stdout",
     "output_type": "stream",
     "text": [
      "{'url': 'https://twitter.com/Gxpx5/status/1644023725279289376', 'date': datetime.datetime(2023, 4, 6, 17, 6, 15, tzinfo=datetime.timezone.utc), 'rawContent': '@nextspaceflight Web scraping?', 'renderedContent': '@nextspaceflight Web scraping?', 'id': 1644023725279289376, 'user': User(username='Gxpx5', id=1319365779188518913, displayname='Gxpx', rawDescription='', renderedDescription='', descriptionLinks=None, verified=False, created=datetime.datetime(2020, 10, 22, 19, 51, 39, tzinfo=datetime.timezone.utc), followersCount=20, friendsCount=91, statusesCount=2223, favouritesCount=8761, listedCount=1, mediaCount=124, location='', protected=False, link=None, profileImageUrl='https://pbs.twimg.com/profile_images/1340418103776342018/OufzniAE_normal.jpg', profileBannerUrl=None, label=None), 'replyCount': 0, 'retweetCount': 0, 'likeCount': 0, 'quoteCount': 0, 'conversationId': 1644020045260156929, 'lang': 'en', 'source': '<a href=\"https://mobile.twitter.com\" rel=\"nofollow\">Twitter Web App</a>', 'sourceUrl': 'https://mobile.twitter.com', 'sourceLabel': 'Twitter Web App', 'links': None, 'media': None, 'retweetedTweet': None, 'quotedTweet': None, 'inReplyToTweetId': 1644020045260156929, 'inReplyToUser': User(username='nextspaceflight', id=3199948059, displayname='Michael Baylor', rawDescription=None, renderedDescription=None, descriptionLinks=None, verified=None, created=None, followersCount=None, friendsCount=None, statusesCount=None, favouritesCount=None, listedCount=None, mediaCount=None, location=None, protected=None, link=None, profileImageUrl=None, profileBannerUrl=None, label=None), 'mentionedUsers': [User(username='nextspaceflight', id=3199948059, displayname='Michael Baylor', rawDescription=None, renderedDescription=None, descriptionLinks=None, verified=None, created=None, followersCount=None, friendsCount=None, statusesCount=None, favouritesCount=None, listedCount=None, mediaCount=None, location=None, protected=None, link=None, profileImageUrl=None, profileBannerUrl=None, label=None)], 'coordinates': None, 'place': None, 'hashtags': None, 'cashtags': None, 'card': None, 'viewCount': 373, 'vibe': None}\n"
     ]
    }
   ],
   "source": [
    "query = \"web scraping\"\n",
    "for tweet in sntwitter.TwitterSearchScraper(query).get_items():\n",
    "    print(vars(tweet))\n",
    "    break"
   ]
  },
  {
   "cell_type": "code",
   "execution_count": 3,
   "metadata": {},
   "outputs": [],
   "source": [
    "limit = 10000\n",
    "ab_tweets = []"
   ]
  },
  {
   "cell_type": "code",
   "execution_count": 4,
   "metadata": {},
   "outputs": [],
   "source": [
    "query = '(abortion OR miscarriage) until:2023-04-10 since:2022-10-27'"
   ]
  },
  {
   "cell_type": "code",
   "execution_count": 5,
   "metadata": {},
   "outputs": [
    {
     "name": "stderr",
     "output_type": "stream",
     "text": [
      "/var/folders/8q/bq8pw32x58s8y8_tnlr5dyvm0000gn/T/ipykernel_60227/2476627241.py:5: DeprecatedFeatureWarning: content is deprecated, use rawContent instead\n",
      "  ab_tweets.append([tweet.date, tweet.user.username, tweet.content,\n"
     ]
    }
   ],
   "source": [
    "for tweet in sntwitter.TwitterSearchScraper(query).get_items():\n",
    "    if len(ab_tweets) == limit:\n",
    "        break\n",
    "    else:\n",
    "        ab_tweets.append([tweet.date, tweet.user.username, tweet.content,\n",
    "                       tweet.retweetCount, tweet.likeCount, tweet.replyCount,\n",
    "                       tweet.user.followersCount])"
   ]
  },
  {
   "cell_type": "code",
   "execution_count": 7,
   "metadata": {},
   "outputs": [],
   "source": [
    "df_abortion = pd.DataFrame(ab_tweets, columns=['Date', 'User', 'Tweet', 'retweetCount', 'likeCount', 'replyCount', 'followersCount'])"
   ]
  },
  {
   "cell_type": "code",
   "execution_count": 8,
   "metadata": {},
   "outputs": [
    {
     "data": {
      "text/html": [
       "<div>\n",
       "<style scoped>\n",
       "    .dataframe tbody tr th:only-of-type {\n",
       "        vertical-align: middle;\n",
       "    }\n",
       "\n",
       "    .dataframe tbody tr th {\n",
       "        vertical-align: top;\n",
       "    }\n",
       "\n",
       "    .dataframe thead th {\n",
       "        text-align: right;\n",
       "    }\n",
       "</style>\n",
       "<table border=\"1\" class=\"dataframe\">\n",
       "  <thead>\n",
       "    <tr style=\"text-align: right;\">\n",
       "      <th></th>\n",
       "      <th>Date</th>\n",
       "      <th>User</th>\n",
       "      <th>Tweet</th>\n",
       "      <th>retweetCount</th>\n",
       "      <th>likeCount</th>\n",
       "      <th>replyCount</th>\n",
       "      <th>followersCount</th>\n",
       "    </tr>\n",
       "  </thead>\n",
       "  <tbody>\n",
       "    <tr>\n",
       "      <th>0</th>\n",
       "      <td>2023-04-09 23:59:59+00:00</td>\n",
       "      <td>Cynthia04784679</td>\n",
       "      <td>@PLLibertarian @warinutah @BrainyFlatus @JoJoF...</td>\n",
       "      <td>0</td>\n",
       "      <td>1</td>\n",
       "      <td>1</td>\n",
       "      <td>684</td>\n",
       "    </tr>\n",
       "    <tr>\n",
       "      <th>1</th>\n",
       "      <td>2023-04-09 23:59:52+00:00</td>\n",
       "      <td>SweetLila5433</td>\n",
       "      <td>@LifeNewsHQ There is much pain with an abortio...</td>\n",
       "      <td>0</td>\n",
       "      <td>0</td>\n",
       "      <td>0</td>\n",
       "      <td>10</td>\n",
       "    </tr>\n",
       "    <tr>\n",
       "      <th>2</th>\n",
       "      <td>2023-04-09 23:59:50+00:00</td>\n",
       "      <td>LittleMammith</td>\n",
       "      <td>Hearing a lot about how abortion bans affect \"...</td>\n",
       "      <td>3</td>\n",
       "      <td>58</td>\n",
       "      <td>1</td>\n",
       "      <td>553</td>\n",
       "    </tr>\n",
       "    <tr>\n",
       "      <th>3</th>\n",
       "      <td>2023-04-09 23:59:47+00:00</td>\n",
       "      <td>LJLMETAL</td>\n",
       "      <td>@jilevin Abortion is another sad step in today...</td>\n",
       "      <td>0</td>\n",
       "      <td>0</td>\n",
       "      <td>0</td>\n",
       "      <td>2228</td>\n",
       "    </tr>\n",
       "    <tr>\n",
       "      <th>4</th>\n",
       "      <td>2023-04-09 23:59:45+00:00</td>\n",
       "      <td>TaytayDoles</td>\n",
       "      <td>@Pullma_Pfanger @FoxNews Actually it’s abortio...</td>\n",
       "      <td>0</td>\n",
       "      <td>0</td>\n",
       "      <td>0</td>\n",
       "      <td>208</td>\n",
       "    </tr>\n",
       "    <tr>\n",
       "      <th>...</th>\n",
       "      <td>...</td>\n",
       "      <td>...</td>\n",
       "      <td>...</td>\n",
       "      <td>...</td>\n",
       "      <td>...</td>\n",
       "      <td>...</td>\n",
       "      <td>...</td>\n",
       "    </tr>\n",
       "    <tr>\n",
       "      <th>9995</th>\n",
       "      <td>2023-04-09 16:38:53+00:00</td>\n",
       "      <td>kukuu_gh</td>\n",
       "      <td>@AmaSweetPussy1 Abortion pill 💊</td>\n",
       "      <td>0</td>\n",
       "      <td>0</td>\n",
       "      <td>0</td>\n",
       "      <td>73</td>\n",
       "    </tr>\n",
       "    <tr>\n",
       "      <th>9996</th>\n",
       "      <td>2023-04-09 16:38:52+00:00</td>\n",
       "      <td>polishkafka0</td>\n",
       "      <td>@kishGauss @JeremyWard33 We have abortion bans...</td>\n",
       "      <td>0</td>\n",
       "      <td>0</td>\n",
       "      <td>1</td>\n",
       "      <td>5</td>\n",
       "    </tr>\n",
       "    <tr>\n",
       "      <th>9997</th>\n",
       "      <td>2023-04-09 16:38:50+00:00</td>\n",
       "      <td>SainzYosi</td>\n",
       "      <td>Why Alexandria Cortez Holy Spirit where Eva, b...</td>\n",
       "      <td>0</td>\n",
       "      <td>0</td>\n",
       "      <td>1</td>\n",
       "      <td>82</td>\n",
       "    </tr>\n",
       "    <tr>\n",
       "      <th>9998</th>\n",
       "      <td>2023-04-09 16:38:48+00:00</td>\n",
       "      <td>devynmeds_</td>\n",
       "      <td>Up</td>\n",
       "      <td>0</td>\n",
       "      <td>0</td>\n",
       "      <td>0</td>\n",
       "      <td>187</td>\n",
       "    </tr>\n",
       "    <tr>\n",
       "      <th>9999</th>\n",
       "      <td>2023-04-09 16:38:45+00:00</td>\n",
       "      <td>PartesanJournal</td>\n",
       "      <td>@dick_nixon Abortion is a bigger issue going f...</td>\n",
       "      <td>0</td>\n",
       "      <td>0</td>\n",
       "      <td>0</td>\n",
       "      <td>439</td>\n",
       "    </tr>\n",
       "  </tbody>\n",
       "</table>\n",
       "<p>10000 rows × 7 columns</p>\n",
       "</div>"
      ],
      "text/plain": [
       "                          Date             User  \\\n",
       "0    2023-04-09 23:59:59+00:00  Cynthia04784679   \n",
       "1    2023-04-09 23:59:52+00:00    SweetLila5433   \n",
       "2    2023-04-09 23:59:50+00:00    LittleMammith   \n",
       "3    2023-04-09 23:59:47+00:00         LJLMETAL   \n",
       "4    2023-04-09 23:59:45+00:00      TaytayDoles   \n",
       "...                        ...              ...   \n",
       "9995 2023-04-09 16:38:53+00:00         kukuu_gh   \n",
       "9996 2023-04-09 16:38:52+00:00     polishkafka0   \n",
       "9997 2023-04-09 16:38:50+00:00        SainzYosi   \n",
       "9998 2023-04-09 16:38:48+00:00       devynmeds_   \n",
       "9999 2023-04-09 16:38:45+00:00  PartesanJournal   \n",
       "\n",
       "                                                  Tweet  retweetCount  \\\n",
       "0     @PLLibertarian @warinutah @BrainyFlatus @JoJoF...             0   \n",
       "1     @LifeNewsHQ There is much pain with an abortio...             0   \n",
       "2     Hearing a lot about how abortion bans affect \"...             3   \n",
       "3     @jilevin Abortion is another sad step in today...             0   \n",
       "4     @Pullma_Pfanger @FoxNews Actually it’s abortio...             0   \n",
       "...                                                 ...           ...   \n",
       "9995                    @AmaSweetPussy1 Abortion pill 💊             0   \n",
       "9996  @kishGauss @JeremyWard33 We have abortion bans...             0   \n",
       "9997  Why Alexandria Cortez Holy Spirit where Eva, b...             0   \n",
       "9998                                                 Up             0   \n",
       "9999  @dick_nixon Abortion is a bigger issue going f...             0   \n",
       "\n",
       "      likeCount  replyCount  followersCount  \n",
       "0             1           1             684  \n",
       "1             0           0              10  \n",
       "2            58           1             553  \n",
       "3             0           0            2228  \n",
       "4             0           0             208  \n",
       "...         ...         ...             ...  \n",
       "9995          0           0              73  \n",
       "9996          0           1               5  \n",
       "9997          0           1              82  \n",
       "9998          0           0             187  \n",
       "9999          0           0             439  \n",
       "\n",
       "[10000 rows x 7 columns]"
      ]
     },
     "execution_count": 8,
     "metadata": {},
     "output_type": "execute_result"
    }
   ],
   "source": [
    "df_abortion"
   ]
  },
  {
   "cell_type": "code",
   "execution_count": 23,
   "metadata": {},
   "outputs": [
    {
     "data": {
      "text/plain": [
       "'@yesnicksearcy \"We are at an inflection point in the life of our democracy, the apathy toward abortion cannot persist. We can no longer accept the status quo that elevates Planned Parenthood above the safety of our unborn children.\"'"
      ]
     },
     "execution_count": 23,
     "metadata": {},
     "output_type": "execute_result"
    }
   ],
   "source": [
    "df_abortion['Tweet'][114]"
   ]
  },
  {
   "cell_type": "code",
   "execution_count": 16,
   "metadata": {},
   "outputs": [],
   "source": [
    "import seaborn as sns\n",
    "import matplotlib.pyplot as plt"
   ]
  },
  {
   "cell_type": "code",
   "execution_count": 17,
   "metadata": {},
   "outputs": [],
   "source": [
    "df_cont = df_abortion[['retweetCount', 'likeCount', 'replyCount','followersCount']]"
   ]
  },
  {
   "cell_type": "code",
   "execution_count": 19,
   "metadata": {},
   "outputs": [],
   "source": [
    "df_corr = df_cont.corr()"
   ]
  },
  {
   "cell_type": "code",
   "execution_count": 20,
   "metadata": {},
   "outputs": [
    {
     "data": {
      "text/plain": [
       "<Axes: >"
      ]
     },
     "execution_count": 20,
     "metadata": {},
     "output_type": "execute_result"
    },
    {
     "data": {
      "image/png": "[encoded data removed]",
      "text/plain": [
       "<Figure size 640x480 with 2 Axes>"
      ]
     },
     "metadata": {},
     "output_type": "display_data"
    }
   ],
   "source": [
    "sns.heatmap(df_corr, annot=True, cmap='coolwarm', vmin=-1, vmax=1)"
   ]
  },
  {
   "cell_type": "code",
   "execution_count": 15,
   "metadata": {},
   "outputs": [
    {
     "data": {
      "text/plain": [
       "[<matplotlib.lines.Line2D at 0x7f81ebf68880>]"
      ]
     },
     "execution_count": 15,
     "metadata": {},
     "output_type": "execute_result"
    },
    {
     "data": {
      "image/png": "[encoded data removed]",
      "text/plain": [
       "<Figure size 640x480 with 1 Axes>"
      ]
     },
     "metadata": {},
     "output_type": "display_data"
    }
   ],
   "source": [
    "plt.plot(df_abortion['followersCount'])"
   ]
  },
  {
   "cell_type": "code",
   "execution_count": 54,
   "metadata": {},
   "outputs": [],
   "source": [
    "import regex as re\n",
    "import contractions"
   ]
  },
  {
   "cell_type": "code",
   "execution_count": 65,
   "metadata": {},
   "outputs": [],
   "source": [
    "def clean_tweet(df):\n",
    "# make all text lowercase\n",
    "    tweet = df['Tweet'].str.lower()\n",
    "    clean_text = []\n",
    "\n",
    "    # clean text\n",
    "    for t in tweet:\n",
    "        # remove \\n\n",
    "        clean_t = re.sub(r\"\\n\", \" \", t)\n",
    "        # remove @account\n",
    "        clean_t = re.sub(r\"@[^\\s]+\", \"\", clean_t)\n",
    "        # remove hashtag\n",
    "        clean_t = re.sub(r\"#\", \"\", clean_t)\n",
    "        # remove urls\n",
    "        clean_t = re.sub(r\"(www[^\\s]+) | (http[^\\s]+)\", \"\", clean_t)\n",
    "        # remove &amp\n",
    "        clean_t = re.sub(r\"&amp\", \"\", clean_t)\n",
    "        # fix contractions\n",
    "        clean_t = contractions.fix(clean_t)\n",
    "        # remove punctuations\n",
    "        clean_t = re.sub(\"[^a-z0-9]\", \" \", clean_t)\n",
    "        # remove numbers\n",
    "        clean_t = re.sub(r\"\\d+\", \"\", clean_t)\n",
    "    \n",
    "        clean_text.append(clean_t)\n",
    "    \n",
    "    df['clean_tweet'] = clean_text"
   ]
  },
  {
   "cell_type": "code",
   "execution_count": 66,
   "metadata": {},
   "outputs": [],
   "source": [
    "clean_tweet(df_abortion)"
   ]
  },
  {
   "cell_type": "code",
   "execution_count": 75,
   "metadata": {},
   "outputs": [
    {
     "data": {
      "text/plain": [
       "'@catturd2 @Steph93065In21 @gatewaypundit Presler did great job, but Kelly was a weak candidate who said he didn’t want Trump’s endorsement, and abortion issue is problematic. Other races did well. Senate now can impeach with super majority. Cheap shot.'"
      ]
     },
     "execution_count": 75,
     "metadata": {},
     "output_type": "execute_result"
    }
   ],
   "source": [
    "df_abortion['Tweet'][5]"
   ]
  },
  {
   "cell_type": "code",
   "execution_count": 69,
   "metadata": {},
   "outputs": [
    {
     "data": {
      "text/plain": [
       "0                       which god  some allow abortion \n",
       "1     leftist activist governor whitmer strikes  abo...\n",
       "2                           against a and pro abortion \n",
       "3                                         shame on you \n",
       "4      it is not a coincidence that most of them jus...\n",
       "                            ...                        \n",
       "95      the democrats would let kill their own voter...\n",
       "96     its still a problem though   the issue is the...\n",
       "97      interesting that all this concern allowed a ...\n",
       "98     are people protesting at the judge s house  d...\n",
       "99      abortion is worth the entire margin  the  qu...\n",
       "Name: clean_tweet, Length: 100, dtype: object"
      ]
     },
     "execution_count": 69,
     "metadata": {},
     "output_type": "execute_result"
    }
   ],
   "source": [
    "df_abortion['clean_tweet']"
   ]
  },
  {
   "cell_type": "code",
   "execution_count": null,
   "metadata": {},
   "outputs": [],
   "source": []
  }
 ],
 "metadata": {
  "kernelspec": {
   "display_name": "Python 3.10.9 ('base')",
   "language": "python",
   "name": "python3"
  },
  "language_info": {
   "codemirror_mode": {
    "name": "ipython",
    "version": 3
   },
   "file_extension": ".py",
   "mimetype": "text/x-python",
   "name": "python",
   "nbconvert_exporter": "python",
   "pygments_lexer": "ipython3",
   "version": "3.10.9"
  },
  "orig_nbformat": 4,
  "vscode": {
   "interpreter": {
    "hash": "1f759ffef1a6238f0cc7d082b1d1c10faeac2a7e5e5cd247bc6e13d55eb9f4e1"
   }
  }
 },
 "nbformat": 4,
 "nbformat_minor": 2
}
