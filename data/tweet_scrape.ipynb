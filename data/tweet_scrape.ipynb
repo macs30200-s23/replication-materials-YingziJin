{
 "cells": [
  {
   "cell_type": "code",
   "execution_count": 1,
   "metadata": {},
   "outputs": [
    {
     "name": "stdout",
     "output_type": "stream",
     "text": [
      "Collecting snscrape\n",
      "  Using cached snscrape-0.6.2.20230320-py3-none-any.whl (71 kB)\n",
      "Requirement already satisfied: lxml in /Users/axyz1220/anaconda3/lib/python3.10/site-packages (from snscrape) (4.9.1)\n",
      "Requirement already satisfied: requests[socks] in /Users/axyz1220/anaconda3/lib/python3.10/site-packages (from snscrape) (2.28.1)\n",
      "Requirement already satisfied: beautifulsoup4 in /Users/axyz1220/anaconda3/lib/python3.10/site-packages (from snscrape) (4.11.1)\n",
      "Requirement already satisfied: filelock in /Users/axyz1220/anaconda3/lib/python3.10/site-packages (from snscrape) (3.9.0)\n",
      "Requirement already satisfied: soupsieve>1.2 in /Users/axyz1220/anaconda3/lib/python3.10/site-packages (from beautifulsoup4->snscrape) (2.3.2.post1)\n",
      "Requirement already satisfied: charset-normalizer<3,>=2 in /Users/axyz1220/anaconda3/lib/python3.10/site-packages (from requests[socks]->snscrape) (2.0.4)\n",
      "Requirement already satisfied: idna<4,>=2.5 in /Users/axyz1220/anaconda3/lib/python3.10/site-packages (from requests[socks]->snscrape) (3.4)\n",
      "Requirement already satisfied: certifi>=2017.4.17 in /Users/axyz1220/anaconda3/lib/python3.10/site-packages (from requests[socks]->snscrape) (2022.12.7)\n",
      "Requirement already satisfied: urllib3<1.27,>=1.21.1 in /Users/axyz1220/anaconda3/lib/python3.10/site-packages (from requests[socks]->snscrape) (1.26.14)\n",
      "Requirement already satisfied: PySocks!=1.5.7,>=1.5.6 in /Users/axyz1220/anaconda3/lib/python3.10/site-packages (from requests[socks]->snscrape) (1.7.1)\n",
      "Installing collected packages: snscrape\n",
      "Successfully installed snscrape-0.6.2.20230320\n"
     ]
    }
   ],
   "source": [
    "! pip install snscrape"
   ]
  },
  {
   "cell_type": "code",
   "execution_count": 283,
   "metadata": {},
   "outputs": [],
   "source": [
    "import numpy as np"
   ]
  },
  {
   "cell_type": "code",
   "execution_count": 1,
   "metadata": {},
   "outputs": [],
   "source": [
    "import snscrape.modules.twitter as sntwitter\n",
    "import pandas as pd"
   ]
  },
  {
   "cell_type": "code",
   "execution_count": 355,
   "metadata": {},
   "outputs": [
    {
     "data": {
      "text/plain": [
       "'1.5.3'"
      ]
     },
     "execution_count": 355,
     "metadata": {},
     "output_type": "execute_result"
    }
   ],
   "source": [
    "pd.__version__"
   ]
  },
  {
   "cell_type": "code",
   "execution_count": 356,
   "metadata": {},
   "outputs": [
    {
     "data": {
      "text/plain": [
       "'1.23.5'"
      ]
     },
     "execution_count": 356,
     "metadata": {},
     "output_type": "execute_result"
    }
   ],
   "source": [
    "np.__version__"
   ]
  },
  {
   "cell_type": "code",
   "execution_count": 452,
   "metadata": {},
   "outputs": [],
   "source": [
    "query_test = \"web scraping \"\n",
    "for tweet in sntwitter.TwitterSearchScraper(query_test).get_items():\n",
    "    items = vars(tweet)\n",
    "    break"
   ]
  },
  {
   "cell_type": "code",
   "execution_count": 3,
   "metadata": {},
   "outputs": [],
   "source": [
    "limit = 10000\n",
    "ab_tweets = []"
   ]
  },
  {
   "cell_type": "code",
   "execution_count": 121,
   "metadata": {},
   "outputs": [],
   "source": [
    "query = '(abortion OR miscarriage) until:2023-04-10 since:2022-10-27'\n",
    "query2 = '(the) -abortion -miscarriage -music -movie lang:en until:2023-04-10 since:2022-10-27'"
   ]
  },
  {
   "cell_type": "code",
   "execution_count": 138,
   "metadata": {},
   "outputs": [],
   "source": [
    "query3 = '(music OR movie) until:2023-04-10 since:2022-10-27'"
   ]
  },
  {
   "cell_type": "code",
   "execution_count": 18,
   "metadata": {},
   "outputs": [],
   "source": [
    "def scrape_tweets(query, limit):\n",
    "    tweets = []\n",
    "    for tweet in sntwitter.TwitterSearchScraper(query).get_items():\n",
    "        if len(tweets) == limit:\n",
    "            break\n",
    "        else:\n",
    "            tweets.append([tweet.date, tweet.user.username, tweet.content,\n",
    "                        tweet.retweetCount, tweet.likeCount, tweet.replyCount,\n",
    "                        tweet.user.followersCount])\n",
    "\n",
    "    df = pd.DataFrame(tweets, \n",
    "                      columns=['Date', 'User', 'Tweet', 'retweetCount', \n",
    "                               'likeCount', 'replyCount', 'followersCount'])\n",
    "    return df"
   ]
  },
  {
   "cell_type": "code",
   "execution_count": 122,
   "metadata": {},
   "outputs": [
    {
     "name": "stderr",
     "output_type": "stream",
     "text": [
      "/var/folders/8q/bq8pw32x58s8y8_tnlr5dyvm0000gn/T/ipykernel_84020/4148361108.py:7: DeprecatedFeatureWarning: content is deprecated, use rawContent instead\n",
      "  tweets.append([tweet.date, tweet.user.username, tweet.content,\n"
     ]
    }
   ],
   "source": [
    "random = scrape_tweets(query2, 5000)"
   ]
  },
  {
   "cell_type": "code",
   "execution_count": 123,
   "metadata": {},
   "outputs": [
    {
     "name": "stderr",
     "output_type": "stream",
     "text": [
      "/var/folders/8q/bq8pw32x58s8y8_tnlr5dyvm0000gn/T/ipykernel_84020/4148361108.py:7: DeprecatedFeatureWarning: content is deprecated, use rawContent instead\n",
      "  tweets.append([tweet.date, tweet.user.username, tweet.content,\n"
     ]
    }
   ],
   "source": [
    "abortion = scrape_tweets(query, 5000)"
   ]
  },
  {
   "cell_type": "code",
   "execution_count": 139,
   "metadata": {},
   "outputs": [
    {
     "name": "stderr",
     "output_type": "stream",
     "text": [
      "/var/folders/8q/bq8pw32x58s8y8_tnlr5dyvm0000gn/T/ipykernel_84020/4148361108.py:7: DeprecatedFeatureWarning: content is deprecated, use rawContent instead\n",
      "  tweets.append([tweet.date, tweet.user.username, tweet.content,\n",
      "Tweet 1644579323507265537 contains an app icon medium key '4_1648167430911303682' on app 'iphone_app'/'1533248097', but the corresponding medium is missing; dropping\n",
      "Tweet 1644579323507265537 contains an app icon medium key '4_1648167430911303682' on app 'ipad_app'/'1533248097', but the corresponding medium is missing; dropping\n"
     ]
    }
   ],
   "source": [
    "music = scrape_tweets(query3, 5000)"
   ]
  },
  {
   "cell_type": "code",
   "execution_count": 63,
   "metadata": {},
   "outputs": [
    {
     "data": {
      "text/html": [
       "<div>\n",
       "<style scoped>\n",
       "    .dataframe tbody tr th:only-of-type {\n",
       "        vertical-align: middle;\n",
       "    }\n",
       "\n",
       "    .dataframe tbody tr th {\n",
       "        vertical-align: top;\n",
       "    }\n",
       "\n",
       "    .dataframe thead th {\n",
       "        text-align: right;\n",
       "    }\n",
       "</style>\n",
       "<table border=\"1\" class=\"dataframe\">\n",
       "  <thead>\n",
       "    <tr style=\"text-align: right;\">\n",
       "      <th></th>\n",
       "      <th>Date</th>\n",
       "      <th>User</th>\n",
       "      <th>Tweet</th>\n",
       "      <th>retweetCount</th>\n",
       "      <th>likeCount</th>\n",
       "      <th>replyCount</th>\n",
       "      <th>followersCount</th>\n",
       "    </tr>\n",
       "  </thead>\n",
       "  <tbody>\n",
       "    <tr>\n",
       "      <th>0</th>\n",
       "      <td>2023-04-09 23:59:59+00:00</td>\n",
       "      <td>fireholdingfire</td>\n",
       "      <td>the hope of the whole world rests on the shoul...</td>\n",
       "      <td>0</td>\n",
       "      <td>2</td>\n",
       "      <td>0</td>\n",
       "      <td>2995</td>\n",
       "    </tr>\n",
       "    <tr>\n",
       "      <th>1</th>\n",
       "      <td>2023-04-09 23:59:59+00:00</td>\n",
       "      <td>NaviGoBoom</td>\n",
       "      <td>@UberPoor Can use different chokes, more mass ...</td>\n",
       "      <td>1</td>\n",
       "      <td>15</td>\n",
       "      <td>1</td>\n",
       "      <td>31988</td>\n",
       "    </tr>\n",
       "    <tr>\n",
       "      <th>2</th>\n",
       "      <td>2023-04-09 23:59:59+00:00</td>\n",
       "      <td>Jeonna972</td>\n",
       "      <td>Also I feel a jk jb collab coming soon 👀</td>\n",
       "      <td>0</td>\n",
       "      <td>0</td>\n",
       "      <td>1</td>\n",
       "      <td>630</td>\n",
       "    </tr>\n",
       "    <tr>\n",
       "      <th>3</th>\n",
       "      <td>2023-04-09 23:59:59+00:00</td>\n",
       "      <td>SamanthaDelVec1</td>\n",
       "      <td>'I was assaulted': Incredulous Riley Gaines sl...</td>\n",
       "      <td>0</td>\n",
       "      <td>0</td>\n",
       "      <td>0</td>\n",
       "      <td>1991</td>\n",
       "    </tr>\n",
       "    <tr>\n",
       "      <th>4</th>\n",
       "      <td>2023-04-09 23:59:59+00:00</td>\n",
       "      <td>jimmy_guinn</td>\n",
       "      <td>Wishing you all, your families, friends and lo...</td>\n",
       "      <td>0</td>\n",
       "      <td>0</td>\n",
       "      <td>0</td>\n",
       "      <td>758</td>\n",
       "    </tr>\n",
       "    <tr>\n",
       "      <th>...</th>\n",
       "      <td>...</td>\n",
       "      <td>...</td>\n",
       "      <td>...</td>\n",
       "      <td>...</td>\n",
       "      <td>...</td>\n",
       "      <td>...</td>\n",
       "      <td>...</td>\n",
       "    </tr>\n",
       "    <tr>\n",
       "      <th>995</th>\n",
       "      <td>2023-04-09 23:59:47+00:00</td>\n",
       "      <td>delavoid</td>\n",
       "      <td>You // Your fav Magic card https://t.co/FZF9A3...</td>\n",
       "      <td>0</td>\n",
       "      <td>1</td>\n",
       "      <td>0</td>\n",
       "      <td>55</td>\n",
       "    </tr>\n",
       "    <tr>\n",
       "      <th>996</th>\n",
       "      <td>2023-04-09 23:59:47+00:00</td>\n",
       "      <td>Christoe2451</td>\n",
       "      <td>@SportsCenter @JonRahmpga Masters isnt a PGA t...</td>\n",
       "      <td>0</td>\n",
       "      <td>4</td>\n",
       "      <td>2</td>\n",
       "      <td>88</td>\n",
       "    </tr>\n",
       "    <tr>\n",
       "      <th>997</th>\n",
       "      <td>2023-04-09 23:59:47+00:00</td>\n",
       "      <td>Ot_Silz</td>\n",
       "      <td>And a series set in the 15 years</td>\n",
       "      <td>0</td>\n",
       "      <td>0</td>\n",
       "      <td>0</td>\n",
       "      <td>2331</td>\n",
       "    </tr>\n",
       "    <tr>\n",
       "      <th>998</th>\n",
       "      <td>2023-04-09 23:59:47+00:00</td>\n",
       "      <td>Suicidal_bpd</td>\n",
       "      <td>this tweet is a rambling mess but im too lazy ...</td>\n",
       "      <td>0</td>\n",
       "      <td>0</td>\n",
       "      <td>0</td>\n",
       "      <td>3077</td>\n",
       "    </tr>\n",
       "    <tr>\n",
       "      <th>999</th>\n",
       "      <td>2023-04-09 23:59:47+00:00</td>\n",
       "      <td>GunsLoaded56</td>\n",
       "      <td>@mattcurry_ @PGA A nine into the wind? At 142 ...</td>\n",
       "      <td>0</td>\n",
       "      <td>1</td>\n",
       "      <td>1</td>\n",
       "      <td>123</td>\n",
       "    </tr>\n",
       "  </tbody>\n",
       "</table>\n",
       "<p>1000 rows × 7 columns</p>\n",
       "</div>"
      ],
      "text/plain": [
       "                         Date             User  \\\n",
       "0   2023-04-09 23:59:59+00:00  fireholdingfire   \n",
       "1   2023-04-09 23:59:59+00:00       NaviGoBoom   \n",
       "2   2023-04-09 23:59:59+00:00        Jeonna972   \n",
       "3   2023-04-09 23:59:59+00:00  SamanthaDelVec1   \n",
       "4   2023-04-09 23:59:59+00:00      jimmy_guinn   \n",
       "..                        ...              ...   \n",
       "995 2023-04-09 23:59:47+00:00         delavoid   \n",
       "996 2023-04-09 23:59:47+00:00     Christoe2451   \n",
       "997 2023-04-09 23:59:47+00:00          Ot_Silz   \n",
       "998 2023-04-09 23:59:47+00:00     Suicidal_bpd   \n",
       "999 2023-04-09 23:59:47+00:00     GunsLoaded56   \n",
       "\n",
       "                                                 Tweet  retweetCount  \\\n",
       "0    the hope of the whole world rests on the shoul...             0   \n",
       "1    @UberPoor Can use different chokes, more mass ...             1   \n",
       "2             Also I feel a jk jb collab coming soon 👀             0   \n",
       "3    'I was assaulted': Incredulous Riley Gaines sl...             0   \n",
       "4    Wishing you all, your families, friends and lo...             0   \n",
       "..                                                 ...           ...   \n",
       "995  You // Your fav Magic card https://t.co/FZF9A3...             0   \n",
       "996  @SportsCenter @JonRahmpga Masters isnt a PGA t...             0   \n",
       "997                   And a series set in the 15 years             0   \n",
       "998  this tweet is a rambling mess but im too lazy ...             0   \n",
       "999  @mattcurry_ @PGA A nine into the wind? At 142 ...             0   \n",
       "\n",
       "     likeCount  replyCount  followersCount  \n",
       "0            2           0            2995  \n",
       "1           15           1           31988  \n",
       "2            0           1             630  \n",
       "3            0           0            1991  \n",
       "4            0           0             758  \n",
       "..         ...         ...             ...  \n",
       "995          1           0              55  \n",
       "996          4           2              88  \n",
       "997          0           0            2331  \n",
       "998          0           0            3077  \n",
       "999          1           1             123  \n",
       "\n",
       "[1000 rows x 7 columns]"
      ]
     },
     "execution_count": 63,
     "metadata": {},
     "output_type": "execute_result"
    }
   ],
   "source": [
    "random"
   ]
  },
  {
   "cell_type": "code",
   "execution_count": 368,
   "metadata": {},
   "outputs": [],
   "source": [
    "import vaderSentiment"
   ]
  },
  {
   "cell_type": "code",
   "execution_count": 370,
   "metadata": {},
   "outputs": [
    {
     "ename": "AttributeError",
     "evalue": "module 'vaderSentiment' has no attribute '__version__'",
     "output_type": "error",
     "traceback": [
      "\u001b[0;31m---------------------------------------------------------------------------\u001b[0m",
      "\u001b[0;31mAttributeError\u001b[0m                            Traceback (most recent call last)",
      "Cell \u001b[0;32mIn[370], line 1\u001b[0m\n\u001b[0;32m----> 1\u001b[0m \u001b[43mvaderSentiment\u001b[49m\u001b[38;5;241;43m.\u001b[39;49m\u001b[43m__version__\u001b[49m\n",
      "\u001b[0;31mAttributeError\u001b[0m: module 'vaderSentiment' has no attribute '__version__'"
     ]
    }
   ],
   "source": [
    "vaderSentiment.__version__"
   ]
  },
  {
   "cell_type": "code",
   "execution_count": 64,
   "metadata": {},
   "outputs": [],
   "source": [
    "from vaderSentiment.vaderSentiment import SentimentIntensityAnalyzer"
   ]
  },
  {
   "cell_type": "code",
   "execution_count": 65,
   "metadata": {},
   "outputs": [],
   "source": [
    "analyzer = SentimentIntensityAnalyzer()"
   ]
  },
  {
   "cell_type": "code",
   "execution_count": 140,
   "metadata": {},
   "outputs": [],
   "source": [
    "def calculate_intensity(df):\n",
    "    results = []\n",
    "    for tweet in df['Tweet']:\n",
    "        vs = analyzer.polarity_scores(tweet)\n",
    "        results.append(vs)\n",
    "    \n",
    "    df_results = pd.DataFrame(results)\n",
    "    df_concat = pd.concat([df, df_results], axis=1)\n",
    "    df_concat['engagement'] = df_concat['retweetCount'] + df_concat['likeCount'] + df_concat['replyCount']\n",
    "    df_concat['absolute intensity'] = abs(df_concat['compound'])\n",
    "\n",
    "    return df_concat"
   ]
  },
  {
   "cell_type": "code",
   "execution_count": 141,
   "metadata": {},
   "outputs": [],
   "source": [
    "df_random  = calculate_intensity(random)"
   ]
  },
  {
   "cell_type": "code",
   "execution_count": 142,
   "metadata": {},
   "outputs": [],
   "source": [
    "df_abortion =  calculate_intensity(abortion)"
   ]
  },
  {
   "cell_type": "code",
   "execution_count": 233,
   "metadata": {},
   "outputs": [],
   "source": [
    "df_music = calculate_intensity(music)"
   ]
  },
  {
   "cell_type": "code",
   "execution_count": 510,
   "metadata": {},
   "outputs": [],
   "source": [
    "df_random.to_csv('random.csv')\n",
    "df_abortion.to_csv('abortion.csv')\n",
    "df_music.to_csv('music.csv')"
   ]
  },
  {
   "cell_type": "code",
   "execution_count": 401,
   "metadata": {},
   "outputs": [
    {
     "data": {
      "text/plain": [
       "(array([ 218.,  340.,  432.,  351., 1310.,  226.,  459.,  585.,  613.,\n",
       "         466.]),\n",
       " array([-0.9843 , -0.78592, -0.58754, -0.38916, -0.19078,  0.0076 ,\n",
       "         0.20598,  0.40436,  0.60274,  0.80112,  0.9995 ]),\n",
       " <BarContainer object of 10 artists>)"
      ]
     },
     "execution_count": 401,
     "metadata": {},
     "output_type": "execute_result"
    },
    {
     "data": {
      "image/png": "[encoded data removed]",
      "text/plain": [
       "<Figure size 640x480 with 1 Axes>"
      ]
     },
     "metadata": {},
     "output_type": "display_data"
    }
   ],
   "source": [
    "plt.hist(df_random['compound'])\n"
   ]
  },
  {
   "cell_type": "code",
   "execution_count": 402,
   "metadata": {},
   "outputs": [
    {
     "data": {
      "text/plain": [
       "(array([1268.,  240.,  378.,  428.,  543.,  529.,  454.,  497.,  419.,\n",
       "         244.]),\n",
       " array([0.     , 0.09995, 0.1999 , 0.29985, 0.3998 , 0.49975, 0.5997 ,\n",
       "        0.69965, 0.7996 , 0.89955, 0.9995 ]),\n",
       " <BarContainer object of 10 artists>)"
      ]
     },
     "execution_count": 402,
     "metadata": {},
     "output_type": "execute_result"
    },
    {
     "data": {
      "image/png": "[encoded data removed]",
      "text/plain": [
       "<Figure size 640x480 with 1 Axes>"
      ]
     },
     "metadata": {},
     "output_type": "display_data"
    }
   ],
   "source": [
    "plt.hist(df_random['absolute intensity'])"
   ]
  },
  {
   "cell_type": "code",
   "execution_count": null,
   "metadata": {},
   "outputs": [],
   "source": []
  },
  {
   "cell_type": "code",
   "execution_count": 404,
   "metadata": {},
   "outputs": [],
   "source": [
    "\n",
    "pd.set_option('display.max_colwidth', None)"
   ]
  },
  {
   "cell_type": "code",
   "execution_count": 406,
   "metadata": {},
   "outputs": [
    {
     "data": {
      "text/plain": [
       "0                                                                                                                                                                                                   @PLLibertarian @warinutah @BrainyFlatus @JoJoFromJerz Of course. Unborn are not human life. If abortion were murder we’d be in jail\n",
       "1                                                                                                                                                                                                                                                             @LifeNewsHQ There is much pain with an abortion. For the baby and mother.\n",
       "2                                            Hearing a lot about how abortion bans affect \"women\" so to nip that in the bud here's a helpful list of the specific women you shouldn't care about for totally progressive reasons:\\n\\nWhite women (duh)\\nRich women (always safe)\\nCis women (idk seems TERFy)\\nOld women (sex-negative)\n",
       "3                                                                                                                                                                               @jilevin Abortion is another sad step in today's society where we don't have to take responsibility for our own actions.  That's all abortion is about.\n",
       "4                                                                                                                                                                                                                                                                                   @Pullma_Pfanger @FoxNews Actually it’s abortion …..\n",
       "5                                                                        @DaisyMi24915313 @StudentsforLife Religions views on abortion is totally irrelevant. This is not a religious issue. It’s a human rights issue. The right to life is the most basic right we have. Without the right to life. All other rights are meaningless.\n",
       "6                                                                 @Unfilteredboss1 It does not matter what passes, Dems will say it’s extreme. They argue that the current 15 week ban is extreme. This is an opportunity to paint the Dems as the extremist. Abortion on demand until birth is what they want. And it’s a state issue.\n",
       "7                                                                                                                                                                                           @JoshShapiroPA \"Abortion will remain legal in Pennsylvania\" 'Happy Easter, Fuck Christianity!'\\n\\nThis is the message that he wants to say.\n",
       "8                                                                                                                                    @DavidCayJ @larryejensen Never a word from Jesus about skinning people alive too, do you want to make it morally correct then? Only child-minded people think Jesus Christ would support abortion.\n",
       "9                                                                                                                                                                                 @LucyRiles Many of the same people that think abortion for convenience sake are advocating  for this mutilation. As a culture we are in deep trouble.\n",
       "10                                                                                                                                                                                                               Idaho’s abortion travel ban shows dangers of GOP’s “parental rights\" agenda https://t.co/tL6twvUGfa by @natashalennard\n",
       "11                                                                                                                                                                                        @CTVNews Women of all genders deserve the right to have an abortion. Whether it's a cis-gendered woman or a bodacious Trans Woman, thank you.\n",
       "12                                                                                                                                                                                                                                              @KimM31856358 Good for you! Then, you wouldn't choose an abortion.  See how that works?\n",
       "13                                                                                                                                               @POTUS How can you say Happy Easter if you do not believe in our Risen Lord? No one who believes in the Lord supports abortion and transgenderism. You are such an apostate, @JoeBiden\n",
       "14                                                                                                                                                                                                                                                     @Justinjpearson and LOVE abortion of our children !!!!  shut up &amp; sit down .\n",
       "15                                                       Dr. Tim Clinton concludes his interview with Abby Johnson, a former administrator at Planned Parenthood. She explains how she was able to move past her shame to allow the Lord to use her unique story to help women escape the abortion industry.\\n\\nhttps://t.co/6W6f33r9OD\n",
       "16                                                 Abby Johnson recounts to Dr. Tim Clinton the horror she felt as she watched a 13-week-old baby lose its life in the womb. From that traumatic event, she learned the awful truth about abortion, and dedicated her life to helping women find a way out. \\n\\nhttps://t.co/dEUSxTaa5h\n",
       "17                                                                                                                                                                                                       @CreativCulinary I am furious.  I'm old and helped in abortion rights fight.  My god, we must not let the Patriarchy cult win.\n",
       "18                             @maryfiorito @harrylitman Recognition of fetal personhood under tort law is subjective and relational; that seems at odds with the kind of personhood the anti-abortion movement wants.\\n\\nA posthumous child is considered alive at their parents' death re distribution but has to be born to inherit.\n",
       "19    @susan_debevec @RightOnBrother @washingtonpost Nothing in the law limits it to those scenarios. (And you don’t need a pardon for a wrongful conviction anyway. The courts take care of such instances.) Pardons are available whenever an executive feels that a miscarriage of justice has occurred on any level for any reason.\n",
       "Name: Tweet, dtype: object"
      ]
     },
     "execution_count": 406,
     "metadata": {},
     "output_type": "execute_result"
    }
   ],
   "source": [
    "df_abortion['Tweet'][:20]"
   ]
  },
  {
   "cell_type": "code",
   "execution_count": 399,
   "metadata": {},
   "outputs": [
    {
     "data": {
      "text/plain": [
       "Date                                          2023-04-09 23:59:52+00:00\n",
       "User                                                      SweetLila5433\n",
       "Tweet                 @LifeNewsHQ There is much pain with an abortio...\n",
       "retweetCount                                                          0\n",
       "likeCount                                                             0\n",
       "replyCount                                                            0\n",
       "followersCount                                                       12\n",
       "neg                                                               0.216\n",
       "neu                                                               0.784\n",
       "pos                                                                 0.0\n",
       "compound                                                        -0.5106\n",
       "engagement                                                            0\n",
       "absolute intensity                                               0.5106\n",
       "Name: 1, dtype: object"
      ]
     },
     "execution_count": 399,
     "metadata": {},
     "output_type": "execute_result"
    }
   ],
   "source": [
    "df_abortion.iloc[1]"
   ]
  },
  {
   "cell_type": "code",
   "execution_count": 154,
   "metadata": {},
   "outputs": [
    {
     "ename": "AttributeError",
     "evalue": "PathCollection.set() got an unexpected keyword argument 'ylim'",
     "output_type": "error",
     "traceback": [
      "\u001b[0;31m---------------------------------------------------------------------------\u001b[0m",
      "\u001b[0;31mAttributeError\u001b[0m                            Traceback (most recent call last)",
      "Cell \u001b[0;32mIn[154], line 1\u001b[0m\n\u001b[0;32m----> 1\u001b[0m \u001b[43mplt\u001b[49m\u001b[38;5;241;43m.\u001b[39;49m\u001b[43mscatter\u001b[49m\u001b[43m(\u001b[49m\u001b[43mdf_random\u001b[49m\u001b[43m[\u001b[49m\u001b[38;5;124;43m'\u001b[39;49m\u001b[38;5;124;43mabsolute intensity\u001b[39;49m\u001b[38;5;124;43m'\u001b[39;49m\u001b[43m]\u001b[49m\u001b[43m,\u001b[49m\u001b[43m \u001b[49m\u001b[43mdf_random\u001b[49m\u001b[43m[\u001b[49m\u001b[38;5;124;43m'\u001b[39;49m\u001b[38;5;124;43mengagement\u001b[39;49m\u001b[38;5;124;43m'\u001b[39;49m\u001b[43m]\u001b[49m\u001b[43m,\u001b[49m\u001b[43m \u001b[49m\u001b[43mylim\u001b[49m\u001b[38;5;241;43m=\u001b[39;49m\u001b[38;5;241;43m4000\u001b[39;49m\u001b[43m)\u001b[49m\n",
      "File \u001b[0;32m~/anaconda3/lib/python3.10/site-packages/matplotlib/pyplot.py:2835\u001b[0m, in \u001b[0;36mscatter\u001b[0;34m(x, y, s, c, marker, cmap, norm, vmin, vmax, alpha, linewidths, edgecolors, plotnonfinite, data, **kwargs)\u001b[0m\n\u001b[1;32m   2830\u001b[0m \u001b[39m@_copy_docstring_and_deprecators\u001b[39m(Axes\u001b[39m.\u001b[39mscatter)\n\u001b[1;32m   2831\u001b[0m \u001b[39mdef\u001b[39;00m \u001b[39mscatter\u001b[39m(\n\u001b[1;32m   2832\u001b[0m         x, y, s\u001b[39m=\u001b[39m\u001b[39mNone\u001b[39;00m, c\u001b[39m=\u001b[39m\u001b[39mNone\u001b[39;00m, marker\u001b[39m=\u001b[39m\u001b[39mNone\u001b[39;00m, cmap\u001b[39m=\u001b[39m\u001b[39mNone\u001b[39;00m, norm\u001b[39m=\u001b[39m\u001b[39mNone\u001b[39;00m,\n\u001b[1;32m   2833\u001b[0m         vmin\u001b[39m=\u001b[39m\u001b[39mNone\u001b[39;00m, vmax\u001b[39m=\u001b[39m\u001b[39mNone\u001b[39;00m, alpha\u001b[39m=\u001b[39m\u001b[39mNone\u001b[39;00m, linewidths\u001b[39m=\u001b[39m\u001b[39mNone\u001b[39;00m, \u001b[39m*\u001b[39m,\n\u001b[1;32m   2834\u001b[0m         edgecolors\u001b[39m=\u001b[39m\u001b[39mNone\u001b[39;00m, plotnonfinite\u001b[39m=\u001b[39m\u001b[39mFalse\u001b[39;00m, data\u001b[39m=\u001b[39m\u001b[39mNone\u001b[39;00m, \u001b[39m*\u001b[39m\u001b[39m*\u001b[39mkwargs):\n\u001b[0;32m-> 2835\u001b[0m     __ret \u001b[39m=\u001b[39m gca()\u001b[39m.\u001b[39;49mscatter(\n\u001b[1;32m   2836\u001b[0m         x, y, s\u001b[39m=\u001b[39;49ms, c\u001b[39m=\u001b[39;49mc, marker\u001b[39m=\u001b[39;49mmarker, cmap\u001b[39m=\u001b[39;49mcmap, norm\u001b[39m=\u001b[39;49mnorm,\n\u001b[1;32m   2837\u001b[0m         vmin\u001b[39m=\u001b[39;49mvmin, vmax\u001b[39m=\u001b[39;49mvmax, alpha\u001b[39m=\u001b[39;49malpha, linewidths\u001b[39m=\u001b[39;49mlinewidths,\n\u001b[1;32m   2838\u001b[0m         edgecolors\u001b[39m=\u001b[39;49medgecolors, plotnonfinite\u001b[39m=\u001b[39;49mplotnonfinite,\n\u001b[1;32m   2839\u001b[0m         \u001b[39m*\u001b[39;49m\u001b[39m*\u001b[39;49m({\u001b[39m\"\u001b[39;49m\u001b[39mdata\u001b[39;49m\u001b[39m\"\u001b[39;49m: data} \u001b[39mif\u001b[39;49;00m data \u001b[39mis\u001b[39;49;00m \u001b[39mnot\u001b[39;49;00m \u001b[39mNone\u001b[39;49;00m \u001b[39melse\u001b[39;49;00m {}), \u001b[39m*\u001b[39;49m\u001b[39m*\u001b[39;49mkwargs)\n\u001b[1;32m   2840\u001b[0m     sci(__ret)\n\u001b[1;32m   2841\u001b[0m     \u001b[39mreturn\u001b[39;00m __ret\n",
      "File \u001b[0;32m~/anaconda3/lib/python3.10/site-packages/matplotlib/__init__.py:1442\u001b[0m, in \u001b[0;36m_preprocess_data.<locals>.inner\u001b[0;34m(ax, data, *args, **kwargs)\u001b[0m\n\u001b[1;32m   1439\u001b[0m \u001b[39m@functools\u001b[39m\u001b[39m.\u001b[39mwraps(func)\n\u001b[1;32m   1440\u001b[0m \u001b[39mdef\u001b[39;00m \u001b[39minner\u001b[39m(ax, \u001b[39m*\u001b[39margs, data\u001b[39m=\u001b[39m\u001b[39mNone\u001b[39;00m, \u001b[39m*\u001b[39m\u001b[39m*\u001b[39mkwargs):\n\u001b[1;32m   1441\u001b[0m     \u001b[39mif\u001b[39;00m data \u001b[39mis\u001b[39;00m \u001b[39mNone\u001b[39;00m:\n\u001b[0;32m-> 1442\u001b[0m         \u001b[39mreturn\u001b[39;00m func(ax, \u001b[39m*\u001b[39;49m\u001b[39mmap\u001b[39;49m(sanitize_sequence, args), \u001b[39m*\u001b[39;49m\u001b[39m*\u001b[39;49mkwargs)\n\u001b[1;32m   1444\u001b[0m     bound \u001b[39m=\u001b[39m new_sig\u001b[39m.\u001b[39mbind(ax, \u001b[39m*\u001b[39margs, \u001b[39m*\u001b[39m\u001b[39m*\u001b[39mkwargs)\n\u001b[1;32m   1445\u001b[0m     auto_label \u001b[39m=\u001b[39m (bound\u001b[39m.\u001b[39marguments\u001b[39m.\u001b[39mget(label_namer)\n\u001b[1;32m   1446\u001b[0m                   \u001b[39mor\u001b[39;00m bound\u001b[39m.\u001b[39mkwargs\u001b[39m.\u001b[39mget(label_namer))\n",
      "File \u001b[0;32m~/anaconda3/lib/python3.10/site-packages/matplotlib/axes/_axes.py:4698\u001b[0m, in \u001b[0;36mAxes.scatter\u001b[0;34m(self, x, y, s, c, marker, cmap, norm, vmin, vmax, alpha, linewidths, edgecolors, plotnonfinite, **kwargs)\u001b[0m\n\u001b[1;32m   4694\u001b[0m         keys_str \u001b[39m=\u001b[39m \u001b[39m\"\u001b[39m\u001b[39m, \u001b[39m\u001b[39m\"\u001b[39m\u001b[39m.\u001b[39mjoin(\u001b[39mf\u001b[39m\u001b[39m\"\u001b[39m\u001b[39m'\u001b[39m\u001b[39m{\u001b[39;00mk\u001b[39m}\u001b[39;00m\u001b[39m'\u001b[39m\u001b[39m\"\u001b[39m \u001b[39mfor\u001b[39;00m k \u001b[39min\u001b[39;00m extra_keys)\n\u001b[1;32m   4695\u001b[0m         _api\u001b[39m.\u001b[39mwarn_external(\n\u001b[1;32m   4696\u001b[0m             \u001b[39m\"\u001b[39m\u001b[39mNo data for colormapping provided via \u001b[39m\u001b[39m'\u001b[39m\u001b[39mc\u001b[39m\u001b[39m'\u001b[39m\u001b[39m. \u001b[39m\u001b[39m\"\u001b[39m\n\u001b[1;32m   4697\u001b[0m             \u001b[39mf\u001b[39m\u001b[39m\"\u001b[39m\u001b[39mParameters \u001b[39m\u001b[39m{\u001b[39;00mkeys_str\u001b[39m}\u001b[39;00m\u001b[39m will be ignored\u001b[39m\u001b[39m\"\u001b[39m)\n\u001b[0;32m-> 4698\u001b[0m collection\u001b[39m.\u001b[39;49m_internal_update(kwargs)\n\u001b[1;32m   4700\u001b[0m \u001b[39m# Classic mode only:\u001b[39;00m\n\u001b[1;32m   4701\u001b[0m \u001b[39m# ensure there are margins to allow for the\u001b[39;00m\n\u001b[1;32m   4702\u001b[0m \u001b[39m# finite size of the symbols.  In v2.x, margins\u001b[39;00m\n\u001b[1;32m   4703\u001b[0m \u001b[39m# are present by default, so we disable this\u001b[39;00m\n\u001b[1;32m   4704\u001b[0m \u001b[39m# scatter-specific override.\u001b[39;00m\n\u001b[1;32m   4705\u001b[0m \u001b[39mif\u001b[39;00m mpl\u001b[39m.\u001b[39mrcParams[\u001b[39m'\u001b[39m\u001b[39m_internal.classic_mode\u001b[39m\u001b[39m'\u001b[39m]:\n",
      "File \u001b[0;32m~/anaconda3/lib/python3.10/site-packages/matplotlib/artist.py:1223\u001b[0m, in \u001b[0;36mArtist._internal_update\u001b[0;34m(self, kwargs)\u001b[0m\n\u001b[1;32m   1216\u001b[0m \u001b[39mdef\u001b[39;00m \u001b[39m_internal_update\u001b[39m(\u001b[39mself\u001b[39m, kwargs):\n\u001b[1;32m   1217\u001b[0m     \u001b[39m\"\"\"\u001b[39;00m\n\u001b[1;32m   1218\u001b[0m \u001b[39m    Update artist properties without prenormalizing them, but generating\u001b[39;00m\n\u001b[1;32m   1219\u001b[0m \u001b[39m    errors as if calling `set`.\u001b[39;00m\n\u001b[1;32m   1220\u001b[0m \n\u001b[1;32m   1221\u001b[0m \u001b[39m    The lack of prenormalization is to maintain backcompatibility.\u001b[39;00m\n\u001b[1;32m   1222\u001b[0m \u001b[39m    \"\"\"\u001b[39;00m\n\u001b[0;32m-> 1223\u001b[0m     \u001b[39mreturn\u001b[39;00m \u001b[39mself\u001b[39;49m\u001b[39m.\u001b[39;49m_update_props(\n\u001b[1;32m   1224\u001b[0m         kwargs, \u001b[39m\"\u001b[39;49m\u001b[39m{cls.__name__}\u001b[39;49;00m\u001b[39m.set() got an unexpected keyword argument \u001b[39;49m\u001b[39m\"\u001b[39;49m\n\u001b[1;32m   1225\u001b[0m         \u001b[39m\"\u001b[39;49m\u001b[39m{prop_name!r}\u001b[39;49;00m\u001b[39m\"\u001b[39;49m)\n",
      "File \u001b[0;32m~/anaconda3/lib/python3.10/site-packages/matplotlib/artist.py:1197\u001b[0m, in \u001b[0;36mArtist._update_props\u001b[0;34m(self, props, errfmt)\u001b[0m\n\u001b[1;32m   1195\u001b[0m             func \u001b[39m=\u001b[39m \u001b[39mgetattr\u001b[39m(\u001b[39mself\u001b[39m, \u001b[39mf\u001b[39m\u001b[39m\"\u001b[39m\u001b[39mset_\u001b[39m\u001b[39m{\u001b[39;00mk\u001b[39m}\u001b[39;00m\u001b[39m\"\u001b[39m, \u001b[39mNone\u001b[39;00m)\n\u001b[1;32m   1196\u001b[0m             \u001b[39mif\u001b[39;00m \u001b[39mnot\u001b[39;00m callable(func):\n\u001b[0;32m-> 1197\u001b[0m                 \u001b[39mraise\u001b[39;00m \u001b[39mAttributeError\u001b[39;00m(\n\u001b[1;32m   1198\u001b[0m                     errfmt\u001b[39m.\u001b[39mformat(\u001b[39mcls\u001b[39m\u001b[39m=\u001b[39m\u001b[39mtype\u001b[39m(\u001b[39mself\u001b[39m), prop_name\u001b[39m=\u001b[39mk))\n\u001b[1;32m   1199\u001b[0m             ret\u001b[39m.\u001b[39mappend(func(v))\n\u001b[1;32m   1200\u001b[0m \u001b[39mif\u001b[39;00m ret:\n",
      "\u001b[0;31mAttributeError\u001b[0m: PathCollection.set() got an unexpected keyword argument 'ylim'"
     ]
    },
    {
     "data": {
      "image/png": "[encoded data removed]",
      "text/plain": [
       "<Figure size 640x480 with 1 Axes>"
      ]
     },
     "metadata": {},
     "output_type": "display_data"
    }
   ],
   "source": [
    "plt.scatter(df_random['absolute intensity'], df_random['engagement'], ylim=4000)\n",
    "plt.Annotation"
   ]
  },
  {
   "cell_type": "code",
   "execution_count": 152,
   "metadata": {},
   "outputs": [
    {
     "data": {
      "text/plain": [
       "<matplotlib.collections.PathCollection at 0x7fdc7ee47400>"
      ]
     },
     "execution_count": 152,
     "metadata": {},
     "output_type": "execute_result"
    },
    {
     "data": {
      "image/png": "[encoded data removed]",
      "text/plain": [
       "<Figure size 640x480 with 1 Axes>"
      ]
     },
     "metadata": {},
     "output_type": "display_data"
    }
   ],
   "source": [
    "plt.scatter(df_abortion['absolute intensity'], df_abortion['engagement'])"
   ]
  },
  {
   "cell_type": "code",
   "execution_count": 75,
   "metadata": {},
   "outputs": [
    {
     "data": {
      "text/plain": [
       "(array([626.,  12.,  11.,   2.,   1.,   1.,   0.,   1.,   0.,   1.]),\n",
       " array([  1. ,  23.8,  46.6,  69.4,  92.2, 115. , 137.8, 160.6, 183.4,\n",
       "        206.2, 229. ]),\n",
       " <BarContainer object of 10 artists>)"
      ]
     },
     "execution_count": 75,
     "metadata": {},
     "output_type": "execute_result"
    },
    {
     "data": {
      "image/png": "[encoded data removed]",
      "text/plain": [
       "<Figure size 640x480 with 1 Axes>"
      ]
     },
     "metadata": {},
     "output_type": "display_data"
    }
   ],
   "source": [
    "plt.hist(df_random[df_random['engagement'] > 0]['engagement'])"
   ]
  },
  {
   "cell_type": "code",
   "execution_count": 150,
   "metadata": {},
   "outputs": [
    {
     "data": {
      "text/html": [
       "<div>\n",
       "<style scoped>\n",
       "    .dataframe tbody tr th:only-of-type {\n",
       "        vertical-align: middle;\n",
       "    }\n",
       "\n",
       "    .dataframe tbody tr th {\n",
       "        vertical-align: top;\n",
       "    }\n",
       "\n",
       "    .dataframe thead th {\n",
       "        text-align: right;\n",
       "    }\n",
       "</style>\n",
       "<table border=\"1\" class=\"dataframe\">\n",
       "  <thead>\n",
       "    <tr style=\"text-align: right;\">\n",
       "      <th></th>\n",
       "      <th>retweetCount</th>\n",
       "      <th>likeCount</th>\n",
       "      <th>replyCount</th>\n",
       "      <th>followersCount</th>\n",
       "      <th>neg</th>\n",
       "      <th>neu</th>\n",
       "      <th>pos</th>\n",
       "      <th>compound</th>\n",
       "      <th>engagement</th>\n",
       "      <th>absolute intensity</th>\n",
       "    </tr>\n",
       "  </thead>\n",
       "  <tbody>\n",
       "    <tr>\n",
       "      <th>count</th>\n",
       "      <td>5000.000000</td>\n",
       "      <td>5000.000000</td>\n",
       "      <td>5000.000000</td>\n",
       "      <td>5.000000e+03</td>\n",
       "      <td>5000.000000</td>\n",
       "      <td>5000.000000</td>\n",
       "      <td>5000.000000</td>\n",
       "      <td>5000.000000</td>\n",
       "      <td>5000.000000</td>\n",
       "      <td>5000.000000</td>\n",
       "    </tr>\n",
       "    <tr>\n",
       "      <th>mean</th>\n",
       "      <td>1.108600</td>\n",
       "      <td>9.184200</td>\n",
       "      <td>0.602400</td>\n",
       "      <td>1.558773e+04</td>\n",
       "      <td>0.081899</td>\n",
       "      <td>0.793736</td>\n",
       "      <td>0.124366</td>\n",
       "      <td>0.109630</td>\n",
       "      <td>10.895200</td>\n",
       "      <td>0.415722</td>\n",
       "    </tr>\n",
       "    <tr>\n",
       "      <th>std</th>\n",
       "      <td>27.610362</td>\n",
       "      <td>162.176735</td>\n",
       "      <td>1.818839</td>\n",
       "      <td>6.443302e+05</td>\n",
       "      <td>0.113855</td>\n",
       "      <td>0.160644</td>\n",
       "      <td>0.140242</td>\n",
       "      <td>0.507083</td>\n",
       "      <td>189.497616</td>\n",
       "      <td>0.310314</td>\n",
       "    </tr>\n",
       "    <tr>\n",
       "      <th>min</th>\n",
       "      <td>0.000000</td>\n",
       "      <td>0.000000</td>\n",
       "      <td>0.000000</td>\n",
       "      <td>0.000000e+00</td>\n",
       "      <td>0.000000</td>\n",
       "      <td>0.000000</td>\n",
       "      <td>0.000000</td>\n",
       "      <td>-0.984300</td>\n",
       "      <td>0.000000</td>\n",
       "      <td>0.000000</td>\n",
       "    </tr>\n",
       "    <tr>\n",
       "      <th>25%</th>\n",
       "      <td>0.000000</td>\n",
       "      <td>0.000000</td>\n",
       "      <td>0.000000</td>\n",
       "      <td>7.400000e+01</td>\n",
       "      <td>0.000000</td>\n",
       "      <td>0.690000</td>\n",
       "      <td>0.000000</td>\n",
       "      <td>-0.250000</td>\n",
       "      <td>0.000000</td>\n",
       "      <td>0.077200</td>\n",
       "    </tr>\n",
       "    <tr>\n",
       "      <th>50%</th>\n",
       "      <td>0.000000</td>\n",
       "      <td>1.000000</td>\n",
       "      <td>0.000000</td>\n",
       "      <td>2.895000e+02</td>\n",
       "      <td>0.000000</td>\n",
       "      <td>0.800000</td>\n",
       "      <td>0.092000</td>\n",
       "      <td>0.000000</td>\n",
       "      <td>1.000000</td>\n",
       "      <td>0.431650</td>\n",
       "    </tr>\n",
       "    <tr>\n",
       "      <th>75%</th>\n",
       "      <td>0.000000</td>\n",
       "      <td>2.000000</td>\n",
       "      <td>1.000000</td>\n",
       "      <td>1.052250e+03</td>\n",
       "      <td>0.140000</td>\n",
       "      <td>0.923250</td>\n",
       "      <td>0.201000</td>\n",
       "      <td>0.554100</td>\n",
       "      <td>3.000000</td>\n",
       "      <td>0.680800</td>\n",
       "    </tr>\n",
       "    <tr>\n",
       "      <th>max</th>\n",
       "      <td>1796.000000</td>\n",
       "      <td>10170.000000</td>\n",
       "      <td>72.000000</td>\n",
       "      <td>4.293581e+07</td>\n",
       "      <td>0.796000</td>\n",
       "      <td>1.000000</td>\n",
       "      <td>1.000000</td>\n",
       "      <td>0.999500</td>\n",
       "      <td>11976.000000</td>\n",
       "      <td>0.999500</td>\n",
       "    </tr>\n",
       "  </tbody>\n",
       "</table>\n",
       "</div>"
      ],
      "text/plain": [
       "       retweetCount     likeCount   replyCount  followersCount          neg  \\\n",
       "count   5000.000000   5000.000000  5000.000000    5.000000e+03  5000.000000   \n",
       "mean       1.108600      9.184200     0.602400    1.558773e+04     0.081899   \n",
       "std       27.610362    162.176735     1.818839    6.443302e+05     0.113855   \n",
       "min        0.000000      0.000000     0.000000    0.000000e+00     0.000000   \n",
       "25%        0.000000      0.000000     0.000000    7.400000e+01     0.000000   \n",
       "50%        0.000000      1.000000     0.000000    2.895000e+02     0.000000   \n",
       "75%        0.000000      2.000000     1.000000    1.052250e+03     0.140000   \n",
       "max     1796.000000  10170.000000    72.000000    4.293581e+07     0.796000   \n",
       "\n",
       "               neu          pos     compound    engagement  absolute intensity  \n",
       "count  5000.000000  5000.000000  5000.000000   5000.000000         5000.000000  \n",
       "mean      0.793736     0.124366     0.109630     10.895200            0.415722  \n",
       "std       0.160644     0.140242     0.507083    189.497616            0.310314  \n",
       "min       0.000000     0.000000    -0.984300      0.000000            0.000000  \n",
       "25%       0.690000     0.000000    -0.250000      0.000000            0.077200  \n",
       "50%       0.800000     0.092000     0.000000      1.000000            0.431650  \n",
       "75%       0.923250     0.201000     0.554100      3.000000            0.680800  \n",
       "max       1.000000     1.000000     0.999500  11976.000000            0.999500  "
      ]
     },
     "execution_count": 150,
     "metadata": {},
     "output_type": "execute_result"
    }
   ],
   "source": [
    "df_random.describe()"
   ]
  },
  {
   "cell_type": "code",
   "execution_count": 151,
   "metadata": {},
   "outputs": [
    {
     "data": {
      "text/html": [
       "<div>\n",
       "<style scoped>\n",
       "    .dataframe tbody tr th:only-of-type {\n",
       "        vertical-align: middle;\n",
       "    }\n",
       "\n",
       "    .dataframe tbody tr th {\n",
       "        vertical-align: top;\n",
       "    }\n",
       "\n",
       "    .dataframe thead th {\n",
       "        text-align: right;\n",
       "    }\n",
       "</style>\n",
       "<table border=\"1\" class=\"dataframe\">\n",
       "  <thead>\n",
       "    <tr style=\"text-align: right;\">\n",
       "      <th></th>\n",
       "      <th>retweetCount</th>\n",
       "      <th>likeCount</th>\n",
       "      <th>replyCount</th>\n",
       "      <th>followersCount</th>\n",
       "      <th>neg</th>\n",
       "      <th>neu</th>\n",
       "      <th>pos</th>\n",
       "      <th>compound</th>\n",
       "      <th>engagement</th>\n",
       "      <th>absolute intensity</th>\n",
       "    </tr>\n",
       "  </thead>\n",
       "  <tbody>\n",
       "    <tr>\n",
       "      <th>count</th>\n",
       "      <td>5000.000000</td>\n",
       "      <td>5000.000000</td>\n",
       "      <td>5000.000000</td>\n",
       "      <td>5.000000e+03</td>\n",
       "      <td>5000.000000</td>\n",
       "      <td>5000.000000</td>\n",
       "      <td>5000.000000</td>\n",
       "      <td>5000.000000</td>\n",
       "      <td>5000.000000</td>\n",
       "      <td>5000.000000</td>\n",
       "    </tr>\n",
       "    <tr>\n",
       "      <th>mean</th>\n",
       "      <td>2.292000</td>\n",
       "      <td>12.194800</td>\n",
       "      <td>1.593200</td>\n",
       "      <td>4.107909e+04</td>\n",
       "      <td>0.112831</td>\n",
       "      <td>0.795790</td>\n",
       "      <td>0.091369</td>\n",
       "      <td>-0.090100</td>\n",
       "      <td>16.080000</td>\n",
       "      <td>0.445113</td>\n",
       "    </tr>\n",
       "    <tr>\n",
       "      <th>std</th>\n",
       "      <td>30.578622</td>\n",
       "      <td>164.641695</td>\n",
       "      <td>22.147456</td>\n",
       "      <td>9.022958e+05</td>\n",
       "      <td>0.114841</td>\n",
       "      <td>0.136615</td>\n",
       "      <td>0.100577</td>\n",
       "      <td>0.528496</td>\n",
       "      <td>202.584458</td>\n",
       "      <td>0.298767</td>\n",
       "    </tr>\n",
       "    <tr>\n",
       "      <th>min</th>\n",
       "      <td>0.000000</td>\n",
       "      <td>0.000000</td>\n",
       "      <td>0.000000</td>\n",
       "      <td>0.000000e+00</td>\n",
       "      <td>0.000000</td>\n",
       "      <td>0.206000</td>\n",
       "      <td>0.000000</td>\n",
       "      <td>-0.990300</td>\n",
       "      <td>0.000000</td>\n",
       "      <td>0.000000</td>\n",
       "    </tr>\n",
       "    <tr>\n",
       "      <th>25%</th>\n",
       "      <td>0.000000</td>\n",
       "      <td>0.000000</td>\n",
       "      <td>0.000000</td>\n",
       "      <td>5.500000e+01</td>\n",
       "      <td>0.000000</td>\n",
       "      <td>0.709000</td>\n",
       "      <td>0.000000</td>\n",
       "      <td>-0.557400</td>\n",
       "      <td>0.000000</td>\n",
       "      <td>0.196375</td>\n",
       "    </tr>\n",
       "    <tr>\n",
       "      <th>50%</th>\n",
       "      <td>0.000000</td>\n",
       "      <td>0.000000</td>\n",
       "      <td>0.000000</td>\n",
       "      <td>2.835000e+02</td>\n",
       "      <td>0.094000</td>\n",
       "      <td>0.801000</td>\n",
       "      <td>0.071000</td>\n",
       "      <td>0.000000</td>\n",
       "      <td>1.000000</td>\n",
       "      <td>0.448150</td>\n",
       "    </tr>\n",
       "    <tr>\n",
       "      <th>75%</th>\n",
       "      <td>0.000000</td>\n",
       "      <td>2.000000</td>\n",
       "      <td>1.000000</td>\n",
       "      <td>1.458000e+03</td>\n",
       "      <td>0.179000</td>\n",
       "      <td>0.892000</td>\n",
       "      <td>0.146250</td>\n",
       "      <td>0.361200</td>\n",
       "      <td>3.000000</td>\n",
       "      <td>0.700300</td>\n",
       "    </tr>\n",
       "    <tr>\n",
       "      <th>max</th>\n",
       "      <td>1098.000000</td>\n",
       "      <td>8461.000000</td>\n",
       "      <td>1076.000000</td>\n",
       "      <td>5.509302e+07</td>\n",
       "      <td>0.794000</td>\n",
       "      <td>1.000000</td>\n",
       "      <td>0.719000</td>\n",
       "      <td>0.993400</td>\n",
       "      <td>9187.000000</td>\n",
       "      <td>0.993400</td>\n",
       "    </tr>\n",
       "  </tbody>\n",
       "</table>\n",
       "</div>"
      ],
      "text/plain": [
       "       retweetCount    likeCount   replyCount  followersCount          neg  \\\n",
       "count   5000.000000  5000.000000  5000.000000    5.000000e+03  5000.000000   \n",
       "mean       2.292000    12.194800     1.593200    4.107909e+04     0.112831   \n",
       "std       30.578622   164.641695    22.147456    9.022958e+05     0.114841   \n",
       "min        0.000000     0.000000     0.000000    0.000000e+00     0.000000   \n",
       "25%        0.000000     0.000000     0.000000    5.500000e+01     0.000000   \n",
       "50%        0.000000     0.000000     0.000000    2.835000e+02     0.094000   \n",
       "75%        0.000000     2.000000     1.000000    1.458000e+03     0.179000   \n",
       "max     1098.000000  8461.000000  1076.000000    5.509302e+07     0.794000   \n",
       "\n",
       "               neu          pos     compound   engagement  absolute intensity  \n",
       "count  5000.000000  5000.000000  5000.000000  5000.000000         5000.000000  \n",
       "mean      0.795790     0.091369    -0.090100    16.080000            0.445113  \n",
       "std       0.136615     0.100577     0.528496   202.584458            0.298767  \n",
       "min       0.206000     0.000000    -0.990300     0.000000            0.000000  \n",
       "25%       0.709000     0.000000    -0.557400     0.000000            0.196375  \n",
       "50%       0.801000     0.071000     0.000000     1.000000            0.448150  \n",
       "75%       0.892000     0.146250     0.361200     3.000000            0.700300  \n",
       "max       1.000000     0.719000     0.993400  9187.000000            0.993400  "
      ]
     },
     "execution_count": 151,
     "metadata": {},
     "output_type": "execute_result"
    }
   ],
   "source": [
    "df_abortion.describe()"
   ]
  },
  {
   "cell_type": "code",
   "execution_count": 234,
   "metadata": {},
   "outputs": [
    {
     "data": {
      "text/html": [
       "<div>\n",
       "<style scoped>\n",
       "    .dataframe tbody tr th:only-of-type {\n",
       "        vertical-align: middle;\n",
       "    }\n",
       "\n",
       "    .dataframe tbody tr th {\n",
       "        vertical-align: top;\n",
       "    }\n",
       "\n",
       "    .dataframe thead th {\n",
       "        text-align: right;\n",
       "    }\n",
       "</style>\n",
       "<table border=\"1\" class=\"dataframe\">\n",
       "  <thead>\n",
       "    <tr style=\"text-align: right;\">\n",
       "      <th></th>\n",
       "      <th>retweetCount</th>\n",
       "      <th>likeCount</th>\n",
       "      <th>replyCount</th>\n",
       "      <th>followersCount</th>\n",
       "      <th>neg</th>\n",
       "      <th>neu</th>\n",
       "      <th>pos</th>\n",
       "      <th>compound</th>\n",
       "      <th>engagement</th>\n",
       "      <th>absolute intensity</th>\n",
       "    </tr>\n",
       "  </thead>\n",
       "  <tbody>\n",
       "    <tr>\n",
       "      <th>count</th>\n",
       "      <td>5000.000000</td>\n",
       "      <td>5000.000000</td>\n",
       "      <td>5000.000000</td>\n",
       "      <td>5.000000e+03</td>\n",
       "      <td>5000.000000</td>\n",
       "      <td>5000.000000</td>\n",
       "      <td>5000.000000</td>\n",
       "      <td>5000.000000</td>\n",
       "      <td>5000.000000</td>\n",
       "      <td>5000.000000</td>\n",
       "    </tr>\n",
       "    <tr>\n",
       "      <th>mean</th>\n",
       "      <td>2.260000</td>\n",
       "      <td>14.666000</td>\n",
       "      <td>0.869800</td>\n",
       "      <td>4.036894e+03</td>\n",
       "      <td>0.060676</td>\n",
       "      <td>0.802386</td>\n",
       "      <td>0.136932</td>\n",
       "      <td>0.180919</td>\n",
       "      <td>17.795800</td>\n",
       "      <td>0.380111</td>\n",
       "    </tr>\n",
       "    <tr>\n",
       "      <th>std</th>\n",
       "      <td>53.252504</td>\n",
       "      <td>265.765367</td>\n",
       "      <td>7.885283</td>\n",
       "      <td>4.717241e+04</td>\n",
       "      <td>0.109954</td>\n",
       "      <td>0.180957</td>\n",
       "      <td>0.162301</td>\n",
       "      <td>0.468766</td>\n",
       "      <td>316.464305</td>\n",
       "      <td>0.328582</td>\n",
       "    </tr>\n",
       "    <tr>\n",
       "      <th>min</th>\n",
       "      <td>0.000000</td>\n",
       "      <td>0.000000</td>\n",
       "      <td>0.000000</td>\n",
       "      <td>0.000000e+00</td>\n",
       "      <td>0.000000</td>\n",
       "      <td>0.000000</td>\n",
       "      <td>0.000000</td>\n",
       "      <td>-0.987800</td>\n",
       "      <td>0.000000</td>\n",
       "      <td>0.000000</td>\n",
       "    </tr>\n",
       "    <tr>\n",
       "      <th>25%</th>\n",
       "      <td>0.000000</td>\n",
       "      <td>0.000000</td>\n",
       "      <td>0.000000</td>\n",
       "      <td>1.020000e+02</td>\n",
       "      <td>0.000000</td>\n",
       "      <td>0.679000</td>\n",
       "      <td>0.000000</td>\n",
       "      <td>0.000000</td>\n",
       "      <td>0.000000</td>\n",
       "      <td>0.000000</td>\n",
       "    </tr>\n",
       "    <tr>\n",
       "      <th>50%</th>\n",
       "      <td>0.000000</td>\n",
       "      <td>1.000000</td>\n",
       "      <td>0.000000</td>\n",
       "      <td>3.780000e+02</td>\n",
       "      <td>0.000000</td>\n",
       "      <td>0.816000</td>\n",
       "      <td>0.091000</td>\n",
       "      <td>0.000000</td>\n",
       "      <td>1.000000</td>\n",
       "      <td>0.381800</td>\n",
       "    </tr>\n",
       "    <tr>\n",
       "      <th>75%</th>\n",
       "      <td>0.000000</td>\n",
       "      <td>2.000000</td>\n",
       "      <td>1.000000</td>\n",
       "      <td>1.187250e+03</td>\n",
       "      <td>0.092000</td>\n",
       "      <td>1.000000</td>\n",
       "      <td>0.229000</td>\n",
       "      <td>0.599400</td>\n",
       "      <td>3.000000</td>\n",
       "      <td>0.665625</td>\n",
       "    </tr>\n",
       "    <tr>\n",
       "      <th>max</th>\n",
       "      <td>2996.000000</td>\n",
       "      <td>12299.000000</td>\n",
       "      <td>405.000000</td>\n",
       "      <td>2.820928e+06</td>\n",
       "      <td>1.000000</td>\n",
       "      <td>1.000000</td>\n",
       "      <td>0.833000</td>\n",
       "      <td>0.997200</td>\n",
       "      <td>15439.000000</td>\n",
       "      <td>0.997200</td>\n",
       "    </tr>\n",
       "  </tbody>\n",
       "</table>\n",
       "</div>"
      ],
      "text/plain": [
       "       retweetCount     likeCount   replyCount  followersCount          neg  \\\n",
       "count   5000.000000   5000.000000  5000.000000    5.000000e+03  5000.000000   \n",
       "mean       2.260000     14.666000     0.869800    4.036894e+03     0.060676   \n",
       "std       53.252504    265.765367     7.885283    4.717241e+04     0.109954   \n",
       "min        0.000000      0.000000     0.000000    0.000000e+00     0.000000   \n",
       "25%        0.000000      0.000000     0.000000    1.020000e+02     0.000000   \n",
       "50%        0.000000      1.000000     0.000000    3.780000e+02     0.000000   \n",
       "75%        0.000000      2.000000     1.000000    1.187250e+03     0.092000   \n",
       "max     2996.000000  12299.000000   405.000000    2.820928e+06     1.000000   \n",
       "\n",
       "               neu          pos     compound    engagement  absolute intensity  \n",
       "count  5000.000000  5000.000000  5000.000000   5000.000000         5000.000000  \n",
       "mean      0.802386     0.136932     0.180919     17.795800            0.380111  \n",
       "std       0.180957     0.162301     0.468766    316.464305            0.328582  \n",
       "min       0.000000     0.000000    -0.987800      0.000000            0.000000  \n",
       "25%       0.679000     0.000000     0.000000      0.000000            0.000000  \n",
       "50%       0.816000     0.091000     0.000000      1.000000            0.381800  \n",
       "75%       1.000000     0.229000     0.599400      3.000000            0.665625  \n",
       "max       1.000000     0.833000     0.997200  15439.000000            0.997200  "
      ]
     },
     "execution_count": 234,
     "metadata": {},
     "output_type": "execute_result"
    }
   ],
   "source": [
    "df_music.describe()"
   ]
  },
  {
   "cell_type": "code",
   "execution_count": 155,
   "metadata": {},
   "outputs": [
    {
     "data": {
      "text/plain": [
       "{'whiskers': [<matplotlib.lines.Line2D at 0x7fdc82a8e500>,\n",
       "  <matplotlib.lines.Line2D at 0x7fdc82a8e7a0>],\n",
       " 'caps': [<matplotlib.lines.Line2D at 0x7fdc82a8ea40>,\n",
       "  <matplotlib.lines.Line2D at 0x7fdc82a8ece0>],\n",
       " 'boxes': [<matplotlib.lines.Line2D at 0x7fdc82a8e260>],\n",
       " 'medians': [<matplotlib.lines.Line2D at 0x7fdc82a8ef80>],\n",
       " 'fliers': [<matplotlib.lines.Line2D at 0x7fdc82a8f220>],\n",
       " 'means': []}"
      ]
     },
     "execution_count": 155,
     "metadata": {},
     "output_type": "execute_result"
    },
    {
     "data": {
      "image/png": "[encoded data removed]",
      "text/plain": [
       "<Figure size 640x480 with 1 Axes>"
      ]
     },
     "metadata": {},
     "output_type": "display_data"
    }
   ],
   "source": [
    "plt.boxplot(df_random['engagement'])"
   ]
  },
  {
   "cell_type": "code",
   "execution_count": 247,
   "metadata": {},
   "outputs": [],
   "source": [
    "df_random_select  = df_random[df_random['engagement'] < 4000]\n",
    "df_random_select  = df_random_select[df_random_select['engagement'] > 0]"
   ]
  },
  {
   "cell_type": "code",
   "execution_count": 248,
   "metadata": {},
   "outputs": [
    {
     "data": {
      "text/plain": [
       "{'whiskers': [<matplotlib.lines.Line2D at 0x7fdc84f6a680>,\n",
       "  <matplotlib.lines.Line2D at 0x7fdc84f6a920>],\n",
       " 'caps': [<matplotlib.lines.Line2D at 0x7fdc84f6abc0>,\n",
       "  <matplotlib.lines.Line2D at 0x7fdc84f6ae60>],\n",
       " 'boxes': [<matplotlib.lines.Line2D at 0x7fdc84f6a3e0>],\n",
       " 'medians': [<matplotlib.lines.Line2D at 0x7fdc84f6b100>],\n",
       " 'fliers': [<matplotlib.lines.Line2D at 0x7fdc84f6b3a0>],\n",
       " 'means': []}"
      ]
     },
     "execution_count": 248,
     "metadata": {},
     "output_type": "execute_result"
    },
    {
     "data": {
      "image/png": "[encoded data removed]",
      "text/plain": [
       "<Figure size 640x480 with 1 Axes>"
      ]
     },
     "metadata": {},
     "output_type": "display_data"
    }
   ],
   "source": [
    "plt.boxplot(df_random_select['engagement'])"
   ]
  },
  {
   "cell_type": "code",
   "execution_count": 301,
   "metadata": {},
   "outputs": [
    {
     "data": {
      "text/plain": [
       "<matplotlib.collections.PathCollection at 0x7fdc87c0e0e0>"
      ]
     },
     "execution_count": 301,
     "metadata": {},
     "output_type": "execute_result"
    },
    {
     "data": {
      "image/png": "[encoded data removed]",
      "text/plain": [
       "<Figure size 640x480 with 1 Axes>"
      ]
     },
     "metadata": {},
     "output_type": "display_data"
    }
   ],
   "source": [
    "plt.scatter(df_random_select['absolute intensity'], np.log(df_random_select['engagement']))"
   ]
  },
  {
   "cell_type": "code",
   "execution_count": 415,
   "metadata": {},
   "outputs": [],
   "source": [
    "df_random_follower = df_random_select[df_random_select['followersCount'] < 1.052250e+03]"
   ]
  },
  {
   "cell_type": "code",
   "execution_count": 416,
   "metadata": {},
   "outputs": [
    {
     "data": {
      "text/plain": [
       "(2264, 13)"
      ]
     },
     "execution_count": 416,
     "metadata": {},
     "output_type": "execute_result"
    }
   ],
   "source": [
    "df_random_follower.shape"
   ]
  },
  {
   "cell_type": "code",
   "execution_count": 417,
   "metadata": {},
   "outputs": [
    {
     "data": {
      "text/plain": [
       "(array([772., 399., 300., 204., 172., 111.,  92.,  86.,  76.,  52.]),\n",
       " array([   0. ,  105.2,  210.4,  315.6,  420.8,  526. ,  631.2,  736.4,\n",
       "         841.6,  946.8, 1052. ]),\n",
       " <BarContainer object of 10 artists>)"
      ]
     },
     "execution_count": 417,
     "metadata": {},
     "output_type": "execute_result"
    },
    {
     "data": {
      "image/png": "[encoded data removed]",
      "text/plain": [
       "<Figure size 640x480 with 1 Axes>"
      ]
     },
     "metadata": {},
     "output_type": "display_data"
    }
   ],
   "source": [
    "plt.hist(df_random_follower['followersCount'])"
   ]
  },
  {
   "cell_type": "code",
   "execution_count": 419,
   "metadata": {},
   "outputs": [
    {
     "data": {
      "text/plain": [
       "Index(['Date', 'User', 'Tweet', 'retweetCount', 'likeCount', 'replyCount',\n",
       "       'followersCount', 'neg', 'neu', 'pos', 'compound', 'engagement',\n",
       "       'absolute intensity'],\n",
       "      dtype='object')"
      ]
     },
     "execution_count": 419,
     "metadata": {},
     "output_type": "execute_result"
    }
   ],
   "source": [
    "df_random.columns"
   ]
  },
  {
   "cell_type": "code",
   "execution_count": 422,
   "metadata": {},
   "outputs": [],
   "source": [
    "df_random_eda = df_random[['retweetCount', 'likeCount', 'replyCount',\n",
    "       'followersCount', 'neg', 'neu', 'pos', 'compound', 'engagement',\n",
    "       'absolute intensity']]"
   ]
  },
  {
   "cell_type": "code",
   "execution_count": 488,
   "metadata": {},
   "outputs": [],
   "source": [
    "df_random['engage_cat'] = df_random['engagement'].apply(lambda x: 1 if x > 0 else 0)\n",
    "# df_random"
   ]
  },
  {
   "cell_type": "code",
   "execution_count": 494,
   "metadata": {},
   "outputs": [
    {
     "data": {
      "text/html": [
       "<div>\n",
       "<style scoped>\n",
       "    .dataframe tbody tr th:only-of-type {\n",
       "        vertical-align: middle;\n",
       "    }\n",
       "\n",
       "    .dataframe tbody tr th {\n",
       "        vertical-align: top;\n",
       "    }\n",
       "\n",
       "    .dataframe thead th {\n",
       "        text-align: right;\n",
       "    }\n",
       "</style>\n",
       "<table border=\"1\" class=\"dataframe\">\n",
       "  <thead>\n",
       "    <tr style=\"text-align: right;\">\n",
       "      <th></th>\n",
       "      <th>retweetCount</th>\n",
       "      <th>likeCount</th>\n",
       "      <th>replyCount</th>\n",
       "      <th>followersCount</th>\n",
       "      <th>neg</th>\n",
       "      <th>neu</th>\n",
       "      <th>pos</th>\n",
       "      <th>compound</th>\n",
       "      <th>engagement</th>\n",
       "      <th>absolute intensity</th>\n",
       "      <th>engage_cat</th>\n",
       "    </tr>\n",
       "  </thead>\n",
       "  <tbody>\n",
       "    <tr>\n",
       "      <th>count</th>\n",
       "      <td>986.000000</td>\n",
       "      <td>986.000000</td>\n",
       "      <td>986.000000</td>\n",
       "      <td>9.860000e+02</td>\n",
       "      <td>986.000000</td>\n",
       "      <td>986.000000</td>\n",
       "      <td>986.000000</td>\n",
       "      <td>986.000000</td>\n",
       "      <td>986.000000</td>\n",
       "      <td>986.000000</td>\n",
       "      <td>986.0</td>\n",
       "    </tr>\n",
       "    <tr>\n",
       "      <th>mean</th>\n",
       "      <td>5.529412</td>\n",
       "      <td>44.255578</td>\n",
       "      <td>1.753550</td>\n",
       "      <td>7.215591e+04</td>\n",
       "      <td>0.077028</td>\n",
       "      <td>0.801767</td>\n",
       "      <td>0.121205</td>\n",
       "      <td>0.123033</td>\n",
       "      <td>51.538540</td>\n",
       "      <td>0.438998</td>\n",
       "      <td>1.0</td>\n",
       "    </tr>\n",
       "    <tr>\n",
       "      <th>std</th>\n",
       "      <td>62.003780</td>\n",
       "      <td>363.244127</td>\n",
       "      <td>3.740451</td>\n",
       "      <td>1.449882e+06</td>\n",
       "      <td>0.107168</td>\n",
       "      <td>0.151187</td>\n",
       "      <td>0.134573</td>\n",
       "      <td>0.529294</td>\n",
       "      <td>424.477264</td>\n",
       "      <td>0.319984</td>\n",
       "      <td>0.0</td>\n",
       "    </tr>\n",
       "    <tr>\n",
       "      <th>min</th>\n",
       "      <td>0.000000</td>\n",
       "      <td>0.000000</td>\n",
       "      <td>0.000000</td>\n",
       "      <td>0.000000e+00</td>\n",
       "      <td>0.000000</td>\n",
       "      <td>0.000000</td>\n",
       "      <td>0.000000</td>\n",
       "      <td>-0.980600</td>\n",
       "      <td>4.000000</td>\n",
       "      <td>0.000000</td>\n",
       "      <td>1.0</td>\n",
       "    </tr>\n",
       "    <tr>\n",
       "      <th>25%</th>\n",
       "      <td>0.000000</td>\n",
       "      <td>4.000000</td>\n",
       "      <td>0.000000</td>\n",
       "      <td>2.350000e+02</td>\n",
       "      <td>0.000000</td>\n",
       "      <td>0.702000</td>\n",
       "      <td>0.000000</td>\n",
       "      <td>-0.296000</td>\n",
       "      <td>5.000000</td>\n",
       "      <td>0.102700</td>\n",
       "      <td>1.0</td>\n",
       "    </tr>\n",
       "    <tr>\n",
       "      <th>50%</th>\n",
       "      <td>0.000000</td>\n",
       "      <td>7.000000</td>\n",
       "      <td>1.000000</td>\n",
       "      <td>8.445000e+02</td>\n",
       "      <td>0.000000</td>\n",
       "      <td>0.805000</td>\n",
       "      <td>0.093500</td>\n",
       "      <td>0.000000</td>\n",
       "      <td>8.000000</td>\n",
       "      <td>0.443500</td>\n",
       "      <td>1.0</td>\n",
       "    </tr>\n",
       "    <tr>\n",
       "      <th>75%</th>\n",
       "      <td>1.000000</td>\n",
       "      <td>15.000000</td>\n",
       "      <td>2.000000</td>\n",
       "      <td>3.166000e+03</td>\n",
       "      <td>0.132000</td>\n",
       "      <td>0.924750</td>\n",
       "      <td>0.198000</td>\n",
       "      <td>0.595900</td>\n",
       "      <td>19.000000</td>\n",
       "      <td>0.718400</td>\n",
       "      <td>1.0</td>\n",
       "    </tr>\n",
       "    <tr>\n",
       "      <th>max</th>\n",
       "      <td>1796.000000</td>\n",
       "      <td>10170.000000</td>\n",
       "      <td>72.000000</td>\n",
       "      <td>4.293581e+07</td>\n",
       "      <td>0.712000</td>\n",
       "      <td>1.000000</td>\n",
       "      <td>1.000000</td>\n",
       "      <td>0.999500</td>\n",
       "      <td>11976.000000</td>\n",
       "      <td>0.999500</td>\n",
       "      <td>1.0</td>\n",
       "    </tr>\n",
       "  </tbody>\n",
       "</table>\n",
       "</div>"
      ],
      "text/plain": [
       "       retweetCount     likeCount  replyCount  followersCount         neg  \\\n",
       "count    986.000000    986.000000  986.000000    9.860000e+02  986.000000   \n",
       "mean       5.529412     44.255578    1.753550    7.215591e+04    0.077028   \n",
       "std       62.003780    363.244127    3.740451    1.449882e+06    0.107168   \n",
       "min        0.000000      0.000000    0.000000    0.000000e+00    0.000000   \n",
       "25%        0.000000      4.000000    0.000000    2.350000e+02    0.000000   \n",
       "50%        0.000000      7.000000    1.000000    8.445000e+02    0.000000   \n",
       "75%        1.000000     15.000000    2.000000    3.166000e+03    0.132000   \n",
       "max     1796.000000  10170.000000   72.000000    4.293581e+07    0.712000   \n",
       "\n",
       "              neu         pos    compound    engagement  absolute intensity  \\\n",
       "count  986.000000  986.000000  986.000000    986.000000          986.000000   \n",
       "mean     0.801767    0.121205    0.123033     51.538540            0.438998   \n",
       "std      0.151187    0.134573    0.529294    424.477264            0.319984   \n",
       "min      0.000000    0.000000   -0.980600      4.000000            0.000000   \n",
       "25%      0.702000    0.000000   -0.296000      5.000000            0.102700   \n",
       "50%      0.805000    0.093500    0.000000      8.000000            0.443500   \n",
       "75%      0.924750    0.198000    0.595900     19.000000            0.718400   \n",
       "max      1.000000    1.000000    0.999500  11976.000000            0.999500   \n",
       "\n",
       "       engage_cat  \n",
       "count       986.0  \n",
       "mean          1.0  \n",
       "std           0.0  \n",
       "min           1.0  \n",
       "25%           1.0  \n",
       "50%           1.0  \n",
       "75%           1.0  \n",
       "max           1.0  "
      ]
     },
     "execution_count": 494,
     "metadata": {},
     "output_type": "execute_result"
    }
   ],
   "source": [
    "summary = df_random[df_random['engagement']>3].describe()\n",
    "summary"
   ]
  },
  {
   "cell_type": "code",
   "execution_count": 502,
   "metadata": {},
   "outputs": [],
   "source": [
    "bins = [0.0, 1.0, 3.0, 8.0, 19.0, float('inf')]\n",
    "df_random['engage_order'] = pd.cut(df_random['engagement'], bins=bins, labels=[0, 1, 2, 3, 4], right = False)\n"
   ]
  },
  {
   "cell_type": "code",
   "execution_count": 503,
   "metadata": {},
   "outputs": [
    {
     "data": {
      "text/html": [
       "<div>\n",
       "<style scoped>\n",
       "    .dataframe tbody tr th:only-of-type {\n",
       "        vertical-align: middle;\n",
       "    }\n",
       "\n",
       "    .dataframe tbody tr th {\n",
       "        vertical-align: top;\n",
       "    }\n",
       "\n",
       "    .dataframe thead th {\n",
       "        text-align: right;\n",
       "    }\n",
       "</style>\n",
       "<table border=\"1\" class=\"dataframe\">\n",
       "  <thead>\n",
       "    <tr style=\"text-align: right;\">\n",
       "      <th></th>\n",
       "      <th>Date</th>\n",
       "      <th>User</th>\n",
       "      <th>Tweet</th>\n",
       "      <th>retweetCount</th>\n",
       "      <th>likeCount</th>\n",
       "      <th>replyCount</th>\n",
       "      <th>followersCount</th>\n",
       "      <th>neg</th>\n",
       "      <th>neu</th>\n",
       "      <th>pos</th>\n",
       "      <th>compound</th>\n",
       "      <th>engagement</th>\n",
       "      <th>absolute intensity</th>\n",
       "      <th>engage_cat</th>\n",
       "      <th>engage_order</th>\n",
       "    </tr>\n",
       "  </thead>\n",
       "  <tbody>\n",
       "    <tr>\n",
       "      <th>0</th>\n",
       "      <td>2023-04-09 23:59:59+00:00</td>\n",
       "      <td>fireholdingfire</td>\n",
       "      <td>the hope of the whole world rests on the shoulders of a homeless man \\n https://t.co/swZgNBCbKy</td>\n",
       "      <td>0</td>\n",
       "      <td>2</td>\n",
       "      <td>0</td>\n",
       "      <td>2994</td>\n",
       "      <td>0.000</td>\n",
       "      <td>0.828</td>\n",
       "      <td>0.172</td>\n",
       "      <td>0.4404</td>\n",
       "      <td>2</td>\n",
       "      <td>0.4404</td>\n",
       "      <td>1</td>\n",
       "      <td>1</td>\n",
       "    </tr>\n",
       "    <tr>\n",
       "      <th>1</th>\n",
       "      <td>2023-04-09 23:59:59+00:00</td>\n",
       "      <td>NaviGoBoom</td>\n",
       "      <td>@UberPoor Can use different chokes, more mass in the front makes for a smoother swing (this is mostly fudd cope), reliability could be a factor but only if you don't use an Auto 5.</td>\n",
       "      <td>1</td>\n",
       "      <td>15</td>\n",
       "      <td>1</td>\n",
       "      <td>31994</td>\n",
       "      <td>0.057</td>\n",
       "      <td>0.943</td>\n",
       "      <td>0.000</td>\n",
       "      <td>-0.2500</td>\n",
       "      <td>17</td>\n",
       "      <td>0.2500</td>\n",
       "      <td>1</td>\n",
       "      <td>3</td>\n",
       "    </tr>\n",
       "    <tr>\n",
       "      <th>2</th>\n",
       "      <td>2023-04-09 23:59:59+00:00</td>\n",
       "      <td>DaYellowMelo</td>\n",
       "      <td>I’m just saying… you can’t tell another grown man “shut the fuck up, bitch” (especially in the presence of 10K+ people) and feel he was in wrong cause he responded physically. Y’all are humans before y’all are basketball players, respect should still be there https://t.co/5esmZ3w9pQ</td>\n",
       "      <td>0</td>\n",
       "      <td>0</td>\n",
       "      <td>0</td>\n",
       "      <td>240</td>\n",
       "      <td>0.128</td>\n",
       "      <td>0.812</td>\n",
       "      <td>0.060</td>\n",
       "      <td>-0.5423</td>\n",
       "      <td>0</td>\n",
       "      <td>0.5423</td>\n",
       "      <td>0</td>\n",
       "      <td>0</td>\n",
       "    </tr>\n",
       "    <tr>\n",
       "      <th>3</th>\n",
       "      <td>2023-04-09 23:59:59+00:00</td>\n",
       "      <td>SteveGleason</td>\n",
       "      <td>In 2014, I gave up breathing for lent... \\n\\nI'm grateful for resurrecting technology like the ventilator that has allowed me to have glorious moments like this with our family. It ain't easy, but it's awesome. \\n\\nLive the adventure.\\n\\nThanks Kyle! https://t.co/WgvkgwEm6i</td>\n",
       "      <td>48</td>\n",
       "      <td>1929</td>\n",
       "      <td>27</td>\n",
       "      <td>202594</td>\n",
       "      <td>0.031</td>\n",
       "      <td>0.594</td>\n",
       "      <td>0.375</td>\n",
       "      <td>0.9592</td>\n",
       "      <td>2004</td>\n",
       "      <td>0.9592</td>\n",
       "      <td>1</td>\n",
       "      <td>4</td>\n",
       "    </tr>\n",
       "    <tr>\n",
       "      <th>4</th>\n",
       "      <td>2023-04-09 23:59:59+00:00</td>\n",
       "      <td>fadeawaytreytak</td>\n",
       "      <td>@NoHoShank Mavs fans spent the past year posting Game  7 memes like they won the ring last season, they brought this upon themselves. 😂</td>\n",
       "      <td>0</td>\n",
       "      <td>26</td>\n",
       "      <td>0</td>\n",
       "      <td>240</td>\n",
       "      <td>0.053</td>\n",
       "      <td>0.669</td>\n",
       "      <td>0.279</td>\n",
       "      <td>0.8442</td>\n",
       "      <td>26</td>\n",
       "      <td>0.8442</td>\n",
       "      <td>1</td>\n",
       "      <td>4</td>\n",
       "    </tr>\n",
       "    <tr>\n",
       "      <th>...</th>\n",
       "      <td>...</td>\n",
       "      <td>...</td>\n",
       "      <td>...</td>\n",
       "      <td>...</td>\n",
       "      <td>...</td>\n",
       "      <td>...</td>\n",
       "      <td>...</td>\n",
       "      <td>...</td>\n",
       "      <td>...</td>\n",
       "      <td>...</td>\n",
       "      <td>...</td>\n",
       "      <td>...</td>\n",
       "      <td>...</td>\n",
       "      <td>...</td>\n",
       "      <td>...</td>\n",
       "    </tr>\n",
       "    <tr>\n",
       "      <th>4995</th>\n",
       "      <td>2023-04-09 23:59:14+00:00</td>\n",
       "      <td>angrybishop10</td>\n",
       "      <td>@richeisen I don't get it. I thought OBJ wanted to go to a team w a chance to win the SB? Why wouldn't he wait to see where everyone landed?</td>\n",
       "      <td>0</td>\n",
       "      <td>0</td>\n",
       "      <td>0</td>\n",
       "      <td>36</td>\n",
       "      <td>0.000</td>\n",
       "      <td>0.820</td>\n",
       "      <td>0.180</td>\n",
       "      <td>0.7319</td>\n",
       "      <td>0</td>\n",
       "      <td>0.7319</td>\n",
       "      <td>0</td>\n",
       "      <td>0</td>\n",
       "    </tr>\n",
       "    <tr>\n",
       "      <th>4996</th>\n",
       "      <td>2023-04-09 23:59:14+00:00</td>\n",
       "      <td>anyothertown</td>\n",
       "      <td>@Angry_Staffer That’s the humblest Trump I’ve ever seen. He must be wasted on Trump champagne</td>\n",
       "      <td>0</td>\n",
       "      <td>0</td>\n",
       "      <td>0</td>\n",
       "      <td>31</td>\n",
       "      <td>0.174</td>\n",
       "      <td>0.707</td>\n",
       "      <td>0.120</td>\n",
       "      <td>-0.2500</td>\n",
       "      <td>0</td>\n",
       "      <td>0.2500</td>\n",
       "      <td>0</td>\n",
       "      <td>0</td>\n",
       "    </tr>\n",
       "    <tr>\n",
       "      <th>4997</th>\n",
       "      <td>2023-04-09 23:59:14+00:00</td>\n",
       "      <td>TommyPhilips2</td>\n",
       "      <td>@djsmooth_15 @davidaldridgedc @TheAthletic Exactly! The optics may not have been good but the Mavs did the right thing by tanking toward the very end. Not in the beginning or in the middle of the season like 25% of the teams did this season.</td>\n",
       "      <td>0</td>\n",
       "      <td>0</td>\n",
       "      <td>1</td>\n",
       "      <td>9</td>\n",
       "      <td>0.037</td>\n",
       "      <td>0.887</td>\n",
       "      <td>0.077</td>\n",
       "      <td>0.4289</td>\n",
       "      <td>1</td>\n",
       "      <td>0.4289</td>\n",
       "      <td>1</td>\n",
       "      <td>1</td>\n",
       "    </tr>\n",
       "    <tr>\n",
       "      <th>4998</th>\n",
       "      <td>2023-04-09 23:59:14+00:00</td>\n",
       "      <td>XIUMlNATION</td>\n",
       "      <td>the way they're everything and more not a single person doing the wrong thing the stage presence the vocals the performance the theatrics of it all... and they KNOW they're it</td>\n",
       "      <td>0</td>\n",
       "      <td>0</td>\n",
       "      <td>0</td>\n",
       "      <td>279</td>\n",
       "      <td>0.094</td>\n",
       "      <td>0.906</td>\n",
       "      <td>0.000</td>\n",
       "      <td>-0.4767</td>\n",
       "      <td>0</td>\n",
       "      <td>0.4767</td>\n",
       "      <td>0</td>\n",
       "      <td>0</td>\n",
       "    </tr>\n",
       "    <tr>\n",
       "      <th>4999</th>\n",
       "      <td>2023-04-09 23:59:14+00:00</td>\n",
       "      <td>unicornbubble_</td>\n",
       "      <td>@AishahAmin8 So he did it for me every 2 times a day until that 1 CM and the 3 CM hole closes. It was wild, 👁️👄👁️. Yea I’m taking a birth control pill, factory is permanently close now. 💀</td>\n",
       "      <td>0</td>\n",
       "      <td>2</td>\n",
       "      <td>0</td>\n",
       "      <td>8</td>\n",
       "      <td>0.000</td>\n",
       "      <td>1.000</td>\n",
       "      <td>0.000</td>\n",
       "      <td>0.0000</td>\n",
       "      <td>2</td>\n",
       "      <td>0.0000</td>\n",
       "      <td>1</td>\n",
       "      <td>1</td>\n",
       "    </tr>\n",
       "  </tbody>\n",
       "</table>\n",
       "<p>5000 rows × 15 columns</p>\n",
       "</div>"
      ],
      "text/plain": [
       "                          Date             User  \\\n",
       "0    2023-04-09 23:59:59+00:00  fireholdingfire   \n",
       "1    2023-04-09 23:59:59+00:00       NaviGoBoom   \n",
       "2    2023-04-09 23:59:59+00:00     DaYellowMelo   \n",
       "3    2023-04-09 23:59:59+00:00     SteveGleason   \n",
       "4    2023-04-09 23:59:59+00:00  fadeawaytreytak   \n",
       "...                        ...              ...   \n",
       "4995 2023-04-09 23:59:14+00:00    angrybishop10   \n",
       "4996 2023-04-09 23:59:14+00:00     anyothertown   \n",
       "4997 2023-04-09 23:59:14+00:00    TommyPhilips2   \n",
       "4998 2023-04-09 23:59:14+00:00      XIUMlNATION   \n",
       "4999 2023-04-09 23:59:14+00:00   unicornbubble_   \n",
       "\n",
       "                                                                                                                                                                                                                                                                                            Tweet  \\\n",
       "0                                                                                                                                                                                                 the hope of the whole world rests on the shoulders of a homeless man \\n https://t.co/swZgNBCbKy   \n",
       "1                                                                                                            @UberPoor Can use different chokes, more mass in the front makes for a smoother swing (this is mostly fudd cope), reliability could be a factor but only if you don't use an Auto 5.   \n",
       "2     I’m just saying… you can’t tell another grown man “shut the fuck up, bitch” (especially in the presence of 10K+ people) and feel he was in wrong cause he responded physically. Y’all are humans before y’all are basketball players, respect should still be there https://t.co/5esmZ3w9pQ   \n",
       "3              In 2014, I gave up breathing for lent... \\n\\nI'm grateful for resurrecting technology like the ventilator that has allowed me to have glorious moments like this with our family. It ain't easy, but it's awesome. \\n\\nLive the adventure.\\n\\nThanks Kyle! https://t.co/WgvkgwEm6i   \n",
       "4                                                                                                                                                         @NoHoShank Mavs fans spent the past year posting Game  7 memes like they won the ring last season, they brought this upon themselves. 😂   \n",
       "...                                                                                                                                                                                                                                                                                           ...   \n",
       "4995                                                                                                                                                 @richeisen I don't get it. I thought OBJ wanted to go to a team w a chance to win the SB? Why wouldn't he wait to see where everyone landed?   \n",
       "4996                                                                                                                                                                                                @Angry_Staffer That’s the humblest Trump I’ve ever seen. He must be wasted on Trump champagne   \n",
       "4997                                            @djsmooth_15 @davidaldridgedc @TheAthletic Exactly! The optics may not have been good but the Mavs did the right thing by tanking toward the very end. Not in the beginning or in the middle of the season like 25% of the teams did this season.   \n",
       "4998                                                                                                              the way they're everything and more not a single person doing the wrong thing the stage presence the vocals the performance the theatrics of it all... and they KNOW they're it   \n",
       "4999                                                                                                  @AishahAmin8 So he did it for me every 2 times a day until that 1 CM and the 3 CM hole closes. It was wild, 👁️👄👁️. Yea I’m taking a birth control pill, factory is permanently close now. 💀   \n",
       "\n",
       "      retweetCount  likeCount  replyCount  followersCount    neg    neu  \\\n",
       "0                0          2           0            2994  0.000  0.828   \n",
       "1                1         15           1           31994  0.057  0.943   \n",
       "2                0          0           0             240  0.128  0.812   \n",
       "3               48       1929          27          202594  0.031  0.594   \n",
       "4                0         26           0             240  0.053  0.669   \n",
       "...            ...        ...         ...             ...    ...    ...   \n",
       "4995             0          0           0              36  0.000  0.820   \n",
       "4996             0          0           0              31  0.174  0.707   \n",
       "4997             0          0           1               9  0.037  0.887   \n",
       "4998             0          0           0             279  0.094  0.906   \n",
       "4999             0          2           0               8  0.000  1.000   \n",
       "\n",
       "        pos  compound  engagement  absolute intensity  engage_cat engage_order  \n",
       "0     0.172    0.4404           2              0.4404           1            1  \n",
       "1     0.000   -0.2500          17              0.2500           1            3  \n",
       "2     0.060   -0.5423           0              0.5423           0            0  \n",
       "3     0.375    0.9592        2004              0.9592           1            4  \n",
       "4     0.279    0.8442          26              0.8442           1            4  \n",
       "...     ...       ...         ...                 ...         ...          ...  \n",
       "4995  0.180    0.7319           0              0.7319           0            0  \n",
       "4996  0.120   -0.2500           0              0.2500           0            0  \n",
       "4997  0.077    0.4289           1              0.4289           1            1  \n",
       "4998  0.000   -0.4767           0              0.4767           0            0  \n",
       "4999  0.000    0.0000           2              0.0000           1            1  \n",
       "\n",
       "[5000 rows x 15 columns]"
      ]
     },
     "execution_count": 503,
     "metadata": {},
     "output_type": "execute_result"
    }
   ],
   "source": [
    "df_random"
   ]
  },
  {
   "cell_type": "code",
   "execution_count": 508,
   "metadata": {},
   "outputs": [],
   "source": [
    "from statsmodels.miscmodels.ordinal_model import OrderedModel"
   ]
  },
  {
   "cell_type": "code",
   "execution_count": 509,
   "metadata": {},
   "outputs": [
    {
     "data": {
      "text/html": [
       "<table class=\"simpletable\">\n",
       "<caption>OrderedModel Results</caption>\n",
       "<tr>\n",
       "  <th>Dep. Variable:</th>       <td>engage_order</td>    <th>  Log-Likelihood:    </th> <td> -6627.6</td> \n",
       "</tr>\n",
       "<tr>\n",
       "  <th>Model:</th>               <td>OrderedModel</td>    <th>  AIC:               </th> <td>1.327e+04</td>\n",
       "</tr>\n",
       "<tr>\n",
       "  <th>Method:</th>           <td>Maximum Likelihood</td> <th>  BIC:               </th> <td>1.331e+04</td>\n",
       "</tr>\n",
       "<tr>\n",
       "  <th>Date:</th>              <td>Tue, 18 Apr 2023</td>  <th>                     </th>     <td> </td>    \n",
       "</tr>\n",
       "<tr>\n",
       "  <th>Time:</th>                  <td>16:48:17</td>      <th>                     </th>     <td> </td>    \n",
       "</tr>\n",
       "<tr>\n",
       "  <th>No. Observations:</th>       <td>  5000</td>       <th>                     </th>     <td> </td>    \n",
       "</tr>\n",
       "<tr>\n",
       "  <th>Df Residuals:</th>           <td>  4994</td>       <th>                     </th>     <td> </td>    \n",
       "</tr>\n",
       "<tr>\n",
       "  <th>Df Model:</th>               <td>     6</td>       <th>                     </th>     <td> </td>    \n",
       "</tr>\n",
       "</table>\n",
       "<table class=\"simpletable\">\n",
       "<tr>\n",
       "           <td></td>             <th>coef</th>     <th>std err</th>      <th>z</th>      <th>P>|z|</th>  <th>[0.025</th>    <th>0.975]</th>  \n",
       "</tr>\n",
       "<tr>\n",
       "  <th>absolute intensity</th> <td>    0.2604</td> <td>    0.084</td> <td>    3.099</td> <td> 0.002</td> <td>    0.096</td> <td>    0.425</td>\n",
       "</tr>\n",
       "<tr>\n",
       "  <th>followersCount</th>     <td> 1.937e-05</td> <td> 1.62e-06</td> <td>   11.921</td> <td> 0.000</td> <td> 1.62e-05</td> <td> 2.26e-05</td>\n",
       "</tr>\n",
       "<tr>\n",
       "  <th>0/1</th>                <td>   -0.4928</td> <td>    0.046</td> <td>  -10.827</td> <td> 0.000</td> <td>   -0.582</td> <td>   -0.404</td>\n",
       "</tr>\n",
       "<tr>\n",
       "  <th>1/2</th>                <td>    0.5176</td> <td>    0.020</td> <td>   26.138</td> <td> 0.000</td> <td>    0.479</td> <td>    0.556</td>\n",
       "</tr>\n",
       "<tr>\n",
       "  <th>2/3</th>                <td>    0.1229</td> <td>    0.034</td> <td>    3.581</td> <td> 0.000</td> <td>    0.056</td> <td>    0.190</td>\n",
       "</tr>\n",
       "<tr>\n",
       "  <th>3/4</th>                <td>   -0.1865</td> <td>    0.060</td> <td>   -3.116</td> <td> 0.002</td> <td>   -0.304</td> <td>   -0.069</td>\n",
       "</tr>\n",
       "</table>"
      ],
      "text/plain": [
       "<class 'statsmodels.iolib.summary.Summary'>\n",
       "\"\"\"\n",
       "                             OrderedModel Results                             \n",
       "==============================================================================\n",
       "Dep. Variable:           engage_order   Log-Likelihood:                -6627.6\n",
       "Model:                   OrderedModel   AIC:                         1.327e+04\n",
       "Method:            Maximum Likelihood   BIC:                         1.331e+04\n",
       "Date:                Tue, 18 Apr 2023                                         \n",
       "Time:                        16:48:17                                         \n",
       "No. Observations:                5000                                         \n",
       "Df Residuals:                    4994                                         \n",
       "Df Model:                           6                                         \n",
       "======================================================================================\n",
       "                         coef    std err          z      P>|z|      [0.025      0.975]\n",
       "--------------------------------------------------------------------------------------\n",
       "absolute intensity     0.2604      0.084      3.099      0.002       0.096       0.425\n",
       "followersCount      1.937e-05   1.62e-06     11.921      0.000    1.62e-05    2.26e-05\n",
       "0/1                   -0.4928      0.046    -10.827      0.000      -0.582      -0.404\n",
       "1/2                    0.5176      0.020     26.138      0.000       0.479       0.556\n",
       "2/3                    0.1229      0.034      3.581      0.000       0.056       0.190\n",
       "3/4                   -0.1865      0.060     -3.116      0.002      -0.304      -0.069\n",
       "======================================================================================\n",
       "\"\"\""
      ]
     },
     "execution_count": 509,
     "metadata": {},
     "output_type": "execute_result"
    }
   ],
   "source": [
    "\n",
    "model = OrderedModel(df_random['engage_order'], df_random[['absolute intensity', 'followersCount']], distr='logit')\n",
    "result = model.fit(method='bfgs', disp=False)\n",
    "result.summary()"
   ]
  },
  {
   "cell_type": "code",
   "execution_count": null,
   "metadata": {},
   "outputs": [],
   "source": [
    "bins = [0, 1, 3]"
   ]
  },
  {
   "cell_type": "code",
   "execution_count": 430,
   "metadata": {},
   "outputs": [
    {
     "data": {
      "text/plain": [
       "(array([4.678e+03, 1.460e+02, 5.500e+01, 3.000e+01, 2.000e+01, 9.000e+00,\n",
       "        9.000e+00, 4.000e+00, 8.000e+00, 4.000e+00]),\n",
       " array([  0. ,  14.6,  29.2,  43.8,  58.4,  73. ,  87.6, 102.2, 116.8,\n",
       "        131.4, 146. ]),\n",
       " <BarContainer object of 10 artists>)"
      ]
     },
     "execution_count": 430,
     "metadata": {},
     "output_type": "execute_result"
    },
    {
     "data": {
      "image/png": "[encoded data removed]",
      "text/plain": [
       "<Figure size 640x480 with 1 Axes>"
      ]
     },
     "metadata": {},
     "output_type": "display_data"
    }
   ],
   "source": [
    "plt.hist(df_random[df_random['engagement'] < 150]['engagement'])"
   ]
  },
  {
   "cell_type": "code",
   "execution_count": 465,
   "metadata": {},
   "outputs": [
    {
     "data": {
      "text/plain": [
       "Text(0, 0.5, 'count of tweets')"
      ]
     },
     "execution_count": 465,
     "metadata": {},
     "output_type": "execute_result"
    },
    {
     "data": {
      "image/png": "[encoded data removed]",
      "text/plain": [
       "<Figure size 640x480 with 1 Axes>"
      ]
     },
     "metadata": {},
     "output_type": "display_data"
    }
   ],
   "source": [
    "ax = sns.countplot(x=df_random['engage_cat'])\n",
    "ax.set_xticklabels(['without engagement', 'with engagement'])\n",
    "plt.xlabel(\" \")\n",
    "plt.ylabel(\"count of tweets\")"
   ]
  },
  {
   "cell_type": "code",
   "execution_count": 504,
   "metadata": {},
   "outputs": [
    {
     "data": {
      "text/plain": [
       "Text(0, 0.5, 'count of tweets')"
      ]
     },
     "execution_count": 504,
     "metadata": {},
     "output_type": "execute_result"
    },
    {
     "data": {
      "image/png": "[encoded data removed]",
      "text/plain": [
       "<Figure size 640x480 with 1 Axes>"
      ]
     },
     "metadata": {},
     "output_type": "display_data"
    }
   ],
   "source": [
    "sns.countplot(x=df_random['engage_order'])\n",
    "plt.xlabel(\" \")\n",
    "plt.ylabel(\"count of tweets\")"
   ]
  },
  {
   "cell_type": "code",
   "execution_count": 466,
   "metadata": {},
   "outputs": [
    {
     "data": {
      "text/html": [
       "<div>\n",
       "<style scoped>\n",
       "    .dataframe tbody tr th:only-of-type {\n",
       "        vertical-align: middle;\n",
       "    }\n",
       "\n",
       "    .dataframe tbody tr th {\n",
       "        vertical-align: top;\n",
       "    }\n",
       "\n",
       "    .dataframe thead th {\n",
       "        text-align: right;\n",
       "    }\n",
       "</style>\n",
       "<table border=\"1\" class=\"dataframe\">\n",
       "  <thead>\n",
       "    <tr style=\"text-align: right;\">\n",
       "      <th></th>\n",
       "      <th>Date</th>\n",
       "      <th>User</th>\n",
       "      <th>Tweet</th>\n",
       "      <th>retweetCount</th>\n",
       "      <th>likeCount</th>\n",
       "      <th>replyCount</th>\n",
       "      <th>followersCount</th>\n",
       "      <th>neg</th>\n",
       "      <th>neu</th>\n",
       "      <th>pos</th>\n",
       "      <th>compound</th>\n",
       "      <th>engagement</th>\n",
       "      <th>absolute intensity</th>\n",
       "      <th>engage_cat</th>\n",
       "    </tr>\n",
       "  </thead>\n",
       "  <tbody>\n",
       "    <tr>\n",
       "      <th>2870</th>\n",
       "      <td>2023-04-09 23:59:34+00:00</td>\n",
       "      <td>aintnocrime</td>\n",
       "      <td>whenever i see this video i think of the tweet that said this was a regular friday night for wayv but for dream it was like their first time in a gay bar</td>\n",
       "      <td>1796</td>\n",
       "      <td>10170</td>\n",
       "      <td>10</td>\n",
       "      <td>199</td>\n",
       "      <td>0.0</td>\n",
       "      <td>0.844</td>\n",
       "      <td>0.156</td>\n",
       "      <td>0.6956</td>\n",
       "      <td>11976</td>\n",
       "      <td>0.6956</td>\n",
       "      <td>1</td>\n",
       "    </tr>\n",
       "  </tbody>\n",
       "</table>\n",
       "</div>"
      ],
      "text/plain": [
       "                          Date         User  \\\n",
       "2870 2023-04-09 23:59:34+00:00  aintnocrime   \n",
       "\n",
       "                                                                                                                                                          Tweet  \\\n",
       "2870  whenever i see this video i think of the tweet that said this was a regular friday night for wayv but for dream it was like their first time in a gay bar   \n",
       "\n",
       "      retweetCount  likeCount  replyCount  followersCount  neg    neu    pos  \\\n",
       "2870          1796      10170          10             199  0.0  0.844  0.156   \n",
       "\n",
       "      compound  engagement  absolute intensity  engage_cat  \n",
       "2870    0.6956       11976              0.6956           1  "
      ]
     },
     "execution_count": 466,
     "metadata": {},
     "output_type": "execute_result"
    }
   ],
   "source": [
    "df_random[df_random['engagement'] > 11000]"
   ]
  },
  {
   "cell_type": "code",
   "execution_count": 424,
   "metadata": {},
   "outputs": [],
   "source": [
    "# sns.pairplot(df_random_eda)"
   ]
  },
  {
   "cell_type": "code",
   "execution_count": 446,
   "metadata": {},
   "outputs": [
    {
     "data": {
      "text/html": [
       "<div>\n",
       "<style scoped>\n",
       "    .dataframe tbody tr th:only-of-type {\n",
       "        vertical-align: middle;\n",
       "    }\n",
       "\n",
       "    .dataframe tbody tr th {\n",
       "        vertical-align: top;\n",
       "    }\n",
       "\n",
       "    .dataframe thead th {\n",
       "        text-align: right;\n",
       "    }\n",
       "</style>\n",
       "<table border=\"1\" class=\"dataframe\">\n",
       "  <thead>\n",
       "    <tr style=\"text-align: right;\">\n",
       "      <th></th>\n",
       "      <th>retweetCount</th>\n",
       "      <th>likeCount</th>\n",
       "      <th>replyCount</th>\n",
       "      <th>followersCount</th>\n",
       "      <th>neg</th>\n",
       "      <th>neu</th>\n",
       "      <th>pos</th>\n",
       "      <th>compound</th>\n",
       "      <th>engagement</th>\n",
       "      <th>absolute intensity</th>\n",
       "      <th>engage_cat</th>\n",
       "    </tr>\n",
       "  </thead>\n",
       "  <tbody>\n",
       "    <tr>\n",
       "      <th>count</th>\n",
       "      <td>5000.000000</td>\n",
       "      <td>5000.000000</td>\n",
       "      <td>5000.000000</td>\n",
       "      <td>5.000000e+03</td>\n",
       "      <td>5000.000000</td>\n",
       "      <td>5000.000000</td>\n",
       "      <td>5000.000000</td>\n",
       "      <td>5000.000000</td>\n",
       "      <td>5000.000000</td>\n",
       "      <td>5000.000000</td>\n",
       "      <td>5000.000000</td>\n",
       "    </tr>\n",
       "    <tr>\n",
       "      <th>mean</th>\n",
       "      <td>1.108600</td>\n",
       "      <td>9.184200</td>\n",
       "      <td>0.602400</td>\n",
       "      <td>1.558773e+04</td>\n",
       "      <td>0.081899</td>\n",
       "      <td>0.793736</td>\n",
       "      <td>0.124366</td>\n",
       "      <td>0.109630</td>\n",
       "      <td>10.895200</td>\n",
       "      <td>0.415722</td>\n",
       "      <td>0.653200</td>\n",
       "    </tr>\n",
       "    <tr>\n",
       "      <th>std</th>\n",
       "      <td>27.610362</td>\n",
       "      <td>162.176735</td>\n",
       "      <td>1.818839</td>\n",
       "      <td>6.443302e+05</td>\n",
       "      <td>0.113855</td>\n",
       "      <td>0.160644</td>\n",
       "      <td>0.140242</td>\n",
       "      <td>0.507083</td>\n",
       "      <td>189.497616</td>\n",
       "      <td>0.310314</td>\n",
       "      <td>0.475999</td>\n",
       "    </tr>\n",
       "    <tr>\n",
       "      <th>min</th>\n",
       "      <td>0.000000</td>\n",
       "      <td>0.000000</td>\n",
       "      <td>0.000000</td>\n",
       "      <td>0.000000e+00</td>\n",
       "      <td>0.000000</td>\n",
       "      <td>0.000000</td>\n",
       "      <td>0.000000</td>\n",
       "      <td>-0.984300</td>\n",
       "      <td>0.000000</td>\n",
       "      <td>0.000000</td>\n",
       "      <td>0.000000</td>\n",
       "    </tr>\n",
       "    <tr>\n",
       "      <th>25%</th>\n",
       "      <td>0.000000</td>\n",
       "      <td>0.000000</td>\n",
       "      <td>0.000000</td>\n",
       "      <td>7.400000e+01</td>\n",
       "      <td>0.000000</td>\n",
       "      <td>0.690000</td>\n",
       "      <td>0.000000</td>\n",
       "      <td>-0.250000</td>\n",
       "      <td>0.000000</td>\n",
       "      <td>0.077200</td>\n",
       "      <td>0.000000</td>\n",
       "    </tr>\n",
       "    <tr>\n",
       "      <th>50%</th>\n",
       "      <td>0.000000</td>\n",
       "      <td>1.000000</td>\n",
       "      <td>0.000000</td>\n",
       "      <td>2.895000e+02</td>\n",
       "      <td>0.000000</td>\n",
       "      <td>0.800000</td>\n",
       "      <td>0.092000</td>\n",
       "      <td>0.000000</td>\n",
       "      <td>1.000000</td>\n",
       "      <td>0.431650</td>\n",
       "      <td>1.000000</td>\n",
       "    </tr>\n",
       "    <tr>\n",
       "      <th>75%</th>\n",
       "      <td>0.000000</td>\n",
       "      <td>2.000000</td>\n",
       "      <td>1.000000</td>\n",
       "      <td>1.052250e+03</td>\n",
       "      <td>0.140000</td>\n",
       "      <td>0.923250</td>\n",
       "      <td>0.201000</td>\n",
       "      <td>0.554100</td>\n",
       "      <td>3.000000</td>\n",
       "      <td>0.680800</td>\n",
       "      <td>1.000000</td>\n",
       "    </tr>\n",
       "    <tr>\n",
       "      <th>max</th>\n",
       "      <td>1796.000000</td>\n",
       "      <td>10170.000000</td>\n",
       "      <td>72.000000</td>\n",
       "      <td>4.293581e+07</td>\n",
       "      <td>0.796000</td>\n",
       "      <td>1.000000</td>\n",
       "      <td>1.000000</td>\n",
       "      <td>0.999500</td>\n",
       "      <td>11976.000000</td>\n",
       "      <td>0.999500</td>\n",
       "      <td>1.000000</td>\n",
       "    </tr>\n",
       "  </tbody>\n",
       "</table>\n",
       "</div>"
      ],
      "text/plain": [
       "       retweetCount     likeCount   replyCount  followersCount          neg  \\\n",
       "count   5000.000000   5000.000000  5000.000000    5.000000e+03  5000.000000   \n",
       "mean       1.108600      9.184200     0.602400    1.558773e+04     0.081899   \n",
       "std       27.610362    162.176735     1.818839    6.443302e+05     0.113855   \n",
       "min        0.000000      0.000000     0.000000    0.000000e+00     0.000000   \n",
       "25%        0.000000      0.000000     0.000000    7.400000e+01     0.000000   \n",
       "50%        0.000000      1.000000     0.000000    2.895000e+02     0.000000   \n",
       "75%        0.000000      2.000000     1.000000    1.052250e+03     0.140000   \n",
       "max     1796.000000  10170.000000    72.000000    4.293581e+07     0.796000   \n",
       "\n",
       "               neu          pos     compound    engagement  \\\n",
       "count  5000.000000  5000.000000  5000.000000   5000.000000   \n",
       "mean      0.793736     0.124366     0.109630     10.895200   \n",
       "std       0.160644     0.140242     0.507083    189.497616   \n",
       "min       0.000000     0.000000    -0.984300      0.000000   \n",
       "25%       0.690000     0.000000    -0.250000      0.000000   \n",
       "50%       0.800000     0.092000     0.000000      1.000000   \n",
       "75%       0.923250     0.201000     0.554100      3.000000   \n",
       "max       1.000000     1.000000     0.999500  11976.000000   \n",
       "\n",
       "       absolute intensity   engage_cat  \n",
       "count         5000.000000  5000.000000  \n",
       "mean             0.415722     0.653200  \n",
       "std              0.310314     0.475999  \n",
       "min              0.000000     0.000000  \n",
       "25%              0.077200     0.000000  \n",
       "50%              0.431650     1.000000  \n",
       "75%              0.680800     1.000000  \n",
       "max              0.999500     1.000000  "
      ]
     },
     "execution_count": 446,
     "metadata": {},
     "output_type": "execute_result"
    }
   ],
   "source": [
    "df_random.describe()"
   ]
  },
  {
   "cell_type": "code",
   "execution_count": 411,
   "metadata": {},
   "outputs": [
    {
     "data": {
      "text/plain": [
       "{'whiskers': [<matplotlib.lines.Line2D at 0x7fdc6ef82ce0>,\n",
       "  <matplotlib.lines.Line2D at 0x7fdc6ef82f80>],\n",
       " 'caps': [<matplotlib.lines.Line2D at 0x7fdc6ef83220>,\n",
       "  <matplotlib.lines.Line2D at 0x7fdc6ef834c0>],\n",
       " 'boxes': [<matplotlib.lines.Line2D at 0x7fdc6ef82a40>],\n",
       " 'medians': [<matplotlib.lines.Line2D at 0x7fdc6ef83760>],\n",
       " 'fliers': [<matplotlib.lines.Line2D at 0x7fdc6ef83a00>],\n",
       " 'means': []}"
      ]
     },
     "execution_count": 411,
     "metadata": {},
     "output_type": "execute_result"
    },
    {
     "data": {
      "image/png": "[encoded data removed]",
      "text/plain": [
       "<Figure size 640x480 with 1 Axes>"
      ]
     },
     "metadata": {},
     "output_type": "display_data"
    }
   ],
   "source": [
    "plt.boxplot(df_random_follower['followersCount'])"
   ]
  },
  {
   "cell_type": "code",
   "execution_count": 250,
   "metadata": {},
   "outputs": [],
   "source": [
    "import statsmodels.formula.api as smf"
   ]
  },
  {
   "cell_type": "code",
   "execution_count": 442,
   "metadata": {},
   "outputs": [],
   "source": [
    "import statsmodels.api as sm"
   ]
  },
  {
   "cell_type": "code",
   "execution_count": 432,
   "metadata": {},
   "outputs": [],
   "source": [
    "x = df_random['absolute intensity']\n",
    "# y = np.log(df_random_select['engagement'])\n",
    "y = df_random['engage_cat']\n",
    "confounder = df_random['followersCount']"
   ]
  },
  {
   "cell_type": "code",
   "execution_count": 433,
   "metadata": {},
   "outputs": [],
   "source": [
    "data = pd.DataFrame({'x': x, 'confounder': confounder, 'y': y})\n"
   ]
  },
  {
   "cell_type": "code",
   "execution_count": 434,
   "metadata": {},
   "outputs": [],
   "source": [
    "scaler.fit(data)\n",
    "data_scaled = pd.DataFrame(scaler.transform(data), columns=data.columns)\n"
   ]
  },
  {
   "cell_type": "code",
   "execution_count": 435,
   "metadata": {},
   "outputs": [
    {
     "name": "stdout",
     "output_type": "stream",
     "text": [
      "                            OLS Regression Results                            \n",
      "==============================================================================\n",
      "Dep. Variable:                      y   R-squared:                       0.001\n",
      "Model:                            OLS   Adj. R-squared:                  0.001\n",
      "Method:                 Least Squares   F-statistic:                     3.162\n",
      "Date:                Tue, 18 Apr 2023   Prob (F-statistic):             0.0424\n",
      "Time:                        13:51:25   Log-Likelihood:                -7091.5\n",
      "No. Observations:                5000   AIC:                         1.419e+04\n",
      "Df Residuals:                    4997   BIC:                         1.421e+04\n",
      "Df Model:                           2                                         \n",
      "Covariance Type:            nonrobust                                         \n",
      "==============================================================================\n",
      "                 coef    std err          t      P>|t|      [0.025      0.975]\n",
      "------------------------------------------------------------------------------\n",
      "Intercept  -1.041e-17      0.014  -7.36e-16      1.000      -0.028       0.028\n",
      "x              0.0320      0.014      2.261      0.024       0.004       0.060\n",
      "confounder     0.0152      0.014      1.077      0.281      -0.012       0.043\n",
      "==============================================================================\n",
      "Omnibus:                    26197.051   Durbin-Watson:                   1.983\n",
      "Prob(Omnibus):                  0.000   Jarque-Bera (JB):              865.586\n",
      "Skew:                          -0.642   Prob(JB):                    1.10e-188\n",
      "Kurtosis:                       1.417   Cond. No.                         1.01\n",
      "==============================================================================\n",
      "\n",
      "Notes:\n",
      "[1] Standard Errors assume that the covariance matrix of the errors is correctly specified.\n"
     ]
    }
   ],
   "source": [
    "model = smf.ols('y ~ x + confounder', data=data_scaled).fit()\n",
    "\n",
    "# print the model summary\n",
    "print(model.summary())"
   ]
  },
  {
   "cell_type": "code",
   "execution_count": 479,
   "metadata": {},
   "outputs": [
    {
     "data": {
      "text/html": [
       "<div>\n",
       "<style scoped>\n",
       "    .dataframe tbody tr th:only-of-type {\n",
       "        vertical-align: middle;\n",
       "    }\n",
       "\n",
       "    .dataframe tbody tr th {\n",
       "        vertical-align: top;\n",
       "    }\n",
       "\n",
       "    .dataframe thead th {\n",
       "        text-align: right;\n",
       "    }\n",
       "</style>\n",
       "<table border=\"1\" class=\"dataframe\">\n",
       "  <thead>\n",
       "    <tr style=\"text-align: right;\">\n",
       "      <th></th>\n",
       "      <th>x</th>\n",
       "      <th>confounder</th>\n",
       "      <th>y</th>\n",
       "    </tr>\n",
       "  </thead>\n",
       "  <tbody>\n",
       "    <tr>\n",
       "      <th>0</th>\n",
       "      <td>0.079534</td>\n",
       "      <td>-0.019547</td>\n",
       "      <td>0.728646</td>\n",
       "    </tr>\n",
       "    <tr>\n",
       "      <th>1</th>\n",
       "      <td>-0.534099</td>\n",
       "      <td>0.025465</td>\n",
       "      <td>0.728646</td>\n",
       "    </tr>\n",
       "    <tr>\n",
       "      <th>2</th>\n",
       "      <td>0.407944</td>\n",
       "      <td>-0.023822</td>\n",
       "      <td>-1.372409</td>\n",
       "    </tr>\n",
       "    <tr>\n",
       "      <th>3</th>\n",
       "      <td>1.751557</td>\n",
       "      <td>0.290263</td>\n",
       "      <td>0.728646</td>\n",
       "    </tr>\n",
       "    <tr>\n",
       "      <th>4</th>\n",
       "      <td>1.380927</td>\n",
       "      <td>-0.023822</td>\n",
       "      <td>0.728646</td>\n",
       "    </tr>\n",
       "    <tr>\n",
       "      <th>...</th>\n",
       "      <td>...</td>\n",
       "      <td>...</td>\n",
       "      <td>...</td>\n",
       "    </tr>\n",
       "    <tr>\n",
       "      <th>4995</th>\n",
       "      <td>1.018999</td>\n",
       "      <td>-0.024139</td>\n",
       "      <td>-1.372409</td>\n",
       "    </tr>\n",
       "    <tr>\n",
       "      <th>4996</th>\n",
       "      <td>-0.534099</td>\n",
       "      <td>-0.024146</td>\n",
       "      <td>-1.372409</td>\n",
       "    </tr>\n",
       "    <tr>\n",
       "      <th>4997</th>\n",
       "      <td>0.042471</td>\n",
       "      <td>-0.024181</td>\n",
       "      <td>0.728646</td>\n",
       "    </tr>\n",
       "    <tr>\n",
       "      <th>4998</th>\n",
       "      <td>0.196524</td>\n",
       "      <td>-0.023762</td>\n",
       "      <td>-1.372409</td>\n",
       "    </tr>\n",
       "    <tr>\n",
       "      <th>4999</th>\n",
       "      <td>-1.339815</td>\n",
       "      <td>-0.024182</td>\n",
       "      <td>0.728646</td>\n",
       "    </tr>\n",
       "  </tbody>\n",
       "</table>\n",
       "<p>5000 rows × 3 columns</p>\n",
       "</div>"
      ],
      "text/plain": [
       "             x  confounder         y\n",
       "0     0.079534   -0.019547  0.728646\n",
       "1    -0.534099    0.025465  0.728646\n",
       "2     0.407944   -0.023822 -1.372409\n",
       "3     1.751557    0.290263  0.728646\n",
       "4     1.380927   -0.023822  0.728646\n",
       "...        ...         ...       ...\n",
       "4995  1.018999   -0.024139 -1.372409\n",
       "4996 -0.534099   -0.024146 -1.372409\n",
       "4997  0.042471   -0.024181  0.728646\n",
       "4998  0.196524   -0.023762 -1.372409\n",
       "4999 -1.339815   -0.024182  0.728646\n",
       "\n",
       "[5000 rows x 3 columns]"
      ]
     },
     "execution_count": 479,
     "metadata": {},
     "output_type": "execute_result"
    }
   ],
   "source": []
  },
  {
   "cell_type": "code",
   "execution_count": 474,
   "metadata": {},
   "outputs": [],
   "source": [
    "X = df_random[['absolute intensity', 'followersCount']]\n",
    "y = df_random[['engagement']]"
   ]
  },
  {
   "cell_type": "code",
   "execution_count": 480,
   "metadata": {},
   "outputs": [],
   "source": [
    "scaler.fit(X)\n",
    "X_scaled = pd.DataFrame(scaler.transform(X), columns=X.columns)"
   ]
  },
  {
   "cell_type": "code",
   "execution_count": 485,
   "metadata": {},
   "outputs": [],
   "source": [
    "scaler.fit(y)\n",
    "y_scaled = pd.DataFrame(scaler.transform(y), columns=y.columns)"
   ]
  },
  {
   "cell_type": "code",
   "execution_count": 487,
   "metadata": {},
   "outputs": [
    {
     "name": "stderr",
     "output_type": "stream",
     "text": [
      "/Users/axyz1220/anaconda3/lib/python3.10/site-packages/statsmodels/base/model.py:604: ConvergenceWarning: Maximum Likelihood optimization failed to converge. Check mle_retvals\n",
      "  warnings.warn(\"Maximum Likelihood optimization failed to \"\n",
      "/Users/axyz1220/anaconda3/lib/python3.10/site-packages/statsmodels/discrete/discrete_model.py:1103: RuntimeWarning: invalid value encountered in log\n",
      "  params = [np.log(const)]\n",
      "/Users/axyz1220/anaconda3/lib/python3.10/site-packages/statsmodels/base/model.py:592: HessianInversionWarning: Inverting hessian failed, no bse or cov_params available\n",
      "  warnings.warn('Inverting hessian failed, no bse or cov_params '\n",
      "/Users/axyz1220/anaconda3/lib/python3.10/site-packages/statsmodels/base/model.py:604: ConvergenceWarning: Maximum Likelihood optimization failed to converge. Check mle_retvals\n",
      "  warnings.warn(\"Maximum Likelihood optimization failed to \"\n"
     ]
    },
    {
     "name": "stdout",
     "output_type": "stream",
     "text": [
      "Optimization terminated successfully.\n",
      "         Current function value: 1.091169\n",
      "         Iterations: 19\n",
      "         Function evaluations: 21\n",
      "         Gradient evaluations: 21\n",
      "                     ZeroInflatedPoisson Regression Results                    \n",
      "===============================================================================\n",
      "Dep. Variable:              engagement   No. Observations:                 5000\n",
      "Model:             ZeroInflatedPoisson   Df Residuals:                     4998\n",
      "Method:                            MLE   Df Model:                            1\n",
      "Date:                 Tue, 18 Apr 2023   Pseudo R-squ.:                     nan\n",
      "Time:                         16:30:03   Log-Likelihood:                -5455.8\n",
      "converged:                        True   LL-Null:                           nan\n",
      "Covariance Type:             nonrobust   LLR p-value:                       nan\n",
      "======================================================================================\n",
      "                         coef    std err          z      P>|z|      [0.025      0.975]\n",
      "--------------------------------------------------------------------------------------\n",
      "inflate_const        -13.1229     10.003     -1.312      0.190     -32.728       6.482\n",
      "absolute intensity     0.0267      0.014      1.889      0.059      -0.001       0.054\n",
      "followersCount         0.0260      0.006      4.254      0.000       0.014       0.038\n",
      "======================================================================================\n"
     ]
    },
    {
     "name": "stderr",
     "output_type": "stream",
     "text": [
      "/Users/axyz1220/anaconda3/lib/python3.10/site-packages/statsmodels/base/model.py:592: HessianInversionWarning: Inverting hessian failed, no bse or cov_params available\n",
      "  warnings.warn('Inverting hessian failed, no bse or cov_params '\n",
      "/Users/axyz1220/anaconda3/lib/python3.10/site-packages/statsmodels/base/model.py:592: HessianInversionWarning: Inverting hessian failed, no bse or cov_params available\n",
      "  warnings.warn('Inverting hessian failed, no bse or cov_params '\n"
     ]
    }
   ],
   "source": [
    "model = sm.ZeroInflatedPoisson(y_scaled, X_scaled).fit()\n",
    "\n",
    "# Print the summary of the model\n",
    "print(model.summary())"
   ]
  },
  {
   "cell_type": "code",
   "execution_count": 440,
   "metadata": {},
   "outputs": [],
   "source": [
    "# plt.hist(df_random[df_random['engage_cat'] == 1]['absolute intensity'])"
   ]
  },
  {
   "cell_type": "code",
   "execution_count": 444,
   "metadata": {},
   "outputs": [
    {
     "name": "stdout",
     "output_type": "stream",
     "text": [
      "                                 OLS Regression Results                                \n",
      "=======================================================================================\n",
      "Dep. Variable:             engage_cat   R-squared (uncentered):                   0.434\n",
      "Model:                            OLS   Adj. R-squared (uncentered):              0.434\n",
      "Method:                 Least Squares   F-statistic:                              1920.\n",
      "Date:                Tue, 18 Apr 2023   Prob (F-statistic):                        0.00\n",
      "Time:                        14:07:30   Log-Likelihood:                         -4605.2\n",
      "No. Observations:                5000   AIC:                                      9214.\n",
      "Df Residuals:                    4998   BIC:                                      9227.\n",
      "Df Model:                           2                                                  \n",
      "Covariance Type:            nonrobust                                                  \n",
      "======================================================================================\n",
      "                         coef    std err          t      P>|t|      [0.025      0.975]\n",
      "--------------------------------------------------------------------------------------\n",
      "absolute intensity     1.0263      0.017     61.902      0.000       0.994       1.059\n",
      "followersCount      1.485e-08   1.33e-08      1.113      0.266   -1.13e-08     4.1e-08\n",
      "==============================================================================\n",
      "Omnibus:                      646.813   Durbin-Watson:                   1.731\n",
      "Prob(Omnibus):                  0.000   Jarque-Bera (JB):              258.889\n",
      "Skew:                          -0.358   Prob(JB):                     6.07e-57\n",
      "Kurtosis:                       2.145   Cond. No.                     1.24e+06\n",
      "==============================================================================\n",
      "\n",
      "Notes:\n",
      "[1] R² is computed without centering (uncentered) since the model does not contain a constant.\n",
      "[2] Standard Errors assume that the covariance matrix of the errors is correctly specified.\n",
      "[3] The condition number is large, 1.24e+06. This might indicate that there are\n",
      "strong multicollinearity or other numerical problems.\n"
     ]
    }
   ],
   "source": [
    "model = sm.OLS(df_random['engage_cat'], df_random[['absolute intensity', 'followersCount']]).fit(method='qr')\n",
    "\n",
    "# view the model summary\n",
    "print(model.summary())\n"
   ]
  },
  {
   "cell_type": "code",
   "execution_count": 204,
   "metadata": {},
   "outputs": [
    {
     "data": {
      "text/plain": [
       "{'whiskers': [<matplotlib.lines.Line2D at 0x7fdc84552950>,\n",
       "  <matplotlib.lines.Line2D at 0x7fdc84551420>],\n",
       " 'caps': [<matplotlib.lines.Line2D at 0x7fdc84552d70>,\n",
       "  <matplotlib.lines.Line2D at 0x7fdc84553010>],\n",
       " 'boxes': [<matplotlib.lines.Line2D at 0x7fdc845526b0>],\n",
       " 'medians': [<matplotlib.lines.Line2D at 0x7fdc845532b0>],\n",
       " 'fliers': [<matplotlib.lines.Line2D at 0x7fdc84553550>],\n",
       " 'means': []}"
      ]
     },
     "execution_count": 204,
     "metadata": {},
     "output_type": "execute_result"
    },
    {
     "data": {
      "image/png": "[encoded data removed]",
      "text/plain": [
       "<Figure size 640x480 with 1 Axes>"
      ]
     },
     "metadata": {},
     "output_type": "display_data"
    }
   ],
   "source": [
    "plt.boxplot(df_abortion['engagement'])"
   ]
  },
  {
   "cell_type": "code",
   "execution_count": 375,
   "metadata": {},
   "outputs": [],
   "source": [
    "df_abortion_select = df_abortion[df_abortion['engagement'] < 4000]\n",
    "df_abortion_select = df_abortion_select[df_abortion_select['engagement'] > 0]\n",
    "# df_abortion_select = df_abortion[df_abortion['engagement'] > 0]"
   ]
  },
  {
   "cell_type": "code",
   "execution_count": 319,
   "metadata": {},
   "outputs": [],
   "source": [
    "df_abortion_neg = df_abortion_select[df_abortion_select['compound']<-0.05]"
   ]
  },
  {
   "cell_type": "code",
   "execution_count": 323,
   "metadata": {},
   "outputs": [],
   "source": [
    "df_abortion_pos = df_abortion_select[df_abortion_select['compound']>0.05]"
   ]
  },
  {
   "cell_type": "code",
   "execution_count": 350,
   "metadata": {},
   "outputs": [],
   "source": [
    "data2 = pd.DataFrame({'x': df_abortion_select['neu'], 'confounder': \n",
    "df_abortion_select['followersCount'], \n",
    "'y': np.log(df_abortion_select['engagement'])})\n"
   ]
  },
  {
   "cell_type": "code",
   "execution_count": 335,
   "metadata": {},
   "outputs": [],
   "source": [
    "data2_neg = pd.DataFrame({'x': df_abortion_neg['absolute intensity'], 'confounder': \n",
    "df_abortion_neg['followersCount'], \n",
    "'y': np.log(df_abortion_neg['engagement'])})\n"
   ]
  },
  {
   "cell_type": "code",
   "execution_count": 351,
   "metadata": {},
   "outputs": [
    {
     "name": "stdout",
     "output_type": "stream",
     "text": [
      "                            OLS Regression Results                            \n",
      "==============================================================================\n",
      "Dep. Variable:                      y   R-squared:                       0.020\n",
      "Model:                            OLS   Adj. R-squared:                  0.020\n",
      "Method:                 Least Squares   F-statistic:                     30.16\n",
      "Date:                Tue, 18 Apr 2023   Prob (F-statistic):           1.09e-13\n",
      "Time:                        10:32:50   Log-Likelihood:                -5001.0\n",
      "No. Observations:                2887   AIC:                         1.001e+04\n",
      "Df Residuals:                    2884   BIC:                         1.003e+04\n",
      "Df Model:                           2                                         \n",
      "Covariance Type:            nonrobust                                         \n",
      "==============================================================================\n",
      "                 coef    std err          t      P>|t|      [0.025      0.975]\n",
      "------------------------------------------------------------------------------\n",
      "Intercept      1.4208      0.156      9.114      0.000       1.115       1.727\n",
      "x             -0.3427      0.193     -1.776      0.076      -0.721       0.036\n",
      "confounder  1.631e-07   2.15e-08      7.593      0.000    1.21e-07    2.05e-07\n",
      "==============================================================================\n",
      "Omnibus:                      946.117   Durbin-Watson:                   2.051\n",
      "Prob(Omnibus):                  0.000   Jarque-Bera (JB):             2933.342\n",
      "Skew:                           1.681   Prob(JB):                         0.00\n",
      "Kurtosis:                       6.617   Cond. No.                     1.15e+07\n",
      "==============================================================================\n",
      "\n",
      "Notes:\n",
      "[1] Standard Errors assume that the covariance matrix of the errors is correctly specified.\n",
      "[2] The condition number is large, 1.15e+07. This might indicate that there are\n",
      "strong multicollinearity or other numerical problems.\n"
     ]
    }
   ],
   "source": [
    "model = smf.ols('y ~ x + confounder', data=data2).fit()\n",
    "\n",
    "# print the model summary\n",
    "print(model.summary())"
   ]
  },
  {
   "cell_type": "code",
   "execution_count": 378,
   "metadata": {},
   "outputs": [
    {
     "data": {
      "text/plain": [
       "<matplotlib.collections.PathCollection at 0x7fdc87c0eb30>"
      ]
     },
     "execution_count": 378,
     "metadata": {},
     "output_type": "execute_result"
    },
    {
     "data": {
      "image/png": "[encoded data removed]",
      "text/plain": [
       "<Figure size 640x480 with 1 Axes>"
      ]
     },
     "metadata": {},
     "output_type": "display_data"
    }
   ],
   "source": [
    "plt.scatter(df_music_select['absolute intensity'],df_music_select['engagement'])"
   ]
  },
  {
   "cell_type": "code",
   "execution_count": 347,
   "metadata": {},
   "outputs": [
    {
     "data": {
      "text/plain": [
       "<matplotlib.collections.PathCollection at 0x7fdc88d53ca0>"
      ]
     },
     "execution_count": 347,
     "metadata": {},
     "output_type": "execute_result"
    },
    {
     "data": {
      "image/png": "[encoded data removed]",
      "text/plain": [
       "<Figure size 640x480 with 1 Axes>"
      ]
     },
     "metadata": {},
     "output_type": "display_data"
    }
   ],
   "source": [
    "plt.scatter(df_abortion_neg['pos'], np.log(df_abortion_neg['engagement']))"
   ]
  },
  {
   "cell_type": "code",
   "execution_count": 235,
   "metadata": {},
   "outputs": [
    {
     "data": {
      "text/plain": [
       "{'whiskers': [<matplotlib.lines.Line2D at 0x7fdc84d02c80>,\n",
       "  <matplotlib.lines.Line2D at 0x7fdc84d02f20>],\n",
       " 'caps': [<matplotlib.lines.Line2D at 0x7fdc84d031c0>,\n",
       "  <matplotlib.lines.Line2D at 0x7fdc84d03460>],\n",
       " 'boxes': [<matplotlib.lines.Line2D at 0x7fdc84d029e0>],\n",
       " 'medians': [<matplotlib.lines.Line2D at 0x7fdc84d03700>],\n",
       " 'fliers': [<matplotlib.lines.Line2D at 0x7fdc84d039a0>],\n",
       " 'means': []}"
      ]
     },
     "execution_count": 235,
     "metadata": {},
     "output_type": "execute_result"
    },
    {
     "data": {
      "image/png": "[encoded data removed]",
      "text/plain": [
       "<Figure size 640x480 with 1 Axes>"
      ]
     },
     "metadata": {},
     "output_type": "display_data"
    }
   ],
   "source": [
    "plt.boxplot(df_music['engagement'])"
   ]
  },
  {
   "cell_type": "code",
   "execution_count": 389,
   "metadata": {},
   "outputs": [],
   "source": [
    "df_music_select = df_music[df_music['engagement']<1600]\n",
    "df_music_select = df_music_select[df_music_select['engagement']>1]\n",
    "# df_music_select = df_music[df_music['engagement']>0]"
   ]
  },
  {
   "cell_type": "code",
   "execution_count": 273,
   "metadata": {},
   "outputs": [],
   "source": [
    "df_music_positive = df_music_select[df_music_select['compound']>0.05]"
   ]
  },
  {
   "cell_type": "code",
   "execution_count": 391,
   "metadata": {},
   "outputs": [
    {
     "data": {
      "text/plain": [
       "<matplotlib.collections.PathCollection at 0x7fdc6a63e6e0>"
      ]
     },
     "execution_count": 391,
     "metadata": {},
     "output_type": "execute_result"
    },
    {
     "data": {
      "image/png": "[encoded data removed]",
      "text/plain": [
       "<Figure size 640x480 with 1 Axes>"
      ]
     },
     "metadata": {},
     "output_type": "display_data"
    }
   ],
   "source": [
    "plt.scatter(df_music_select['absolute intensity'], df_music_select['engagement'])"
   ]
  },
  {
   "cell_type": "code",
   "execution_count": 380,
   "metadata": {},
   "outputs": [
    {
     "data": {
      "text/plain": [
       "<matplotlib.collections.PathCollection at 0x7fdc80e1c670>"
      ]
     },
     "execution_count": 380,
     "metadata": {},
     "output_type": "execute_result"
    },
    {
     "data": {
      "image/png": "[encoded data removed]",
      "text/plain": [
       "<Figure size 640x480 with 1 Axes>"
      ]
     },
     "metadata": {},
     "output_type": "display_data"
    }
   ],
   "source": [
    "plt.scatter(df_music_select['absolute intensity'], np.log(df_music_select['engagement']))"
   ]
  },
  {
   "cell_type": "code",
   "execution_count": 284,
   "metadata": {},
   "outputs": [
    {
     "data": {
      "text/plain": [
       "<matplotlib.collections.PathCollection at 0x7fdc8638dab0>"
      ]
     },
     "execution_count": 284,
     "metadata": {},
     "output_type": "execute_result"
    },
    {
     "data": {
      "image/png": "[encoded data removed]",
      "text/plain": [
       "<Figure size 640x480 with 1 Axes>"
      ]
     },
     "metadata": {},
     "output_type": "display_data"
    }
   ],
   "source": [
    "plt.scatter(df_music_positive['absolute intensity'], np.log(df_music_positive['engagement']))"
   ]
  },
  {
   "cell_type": "code",
   "execution_count": 298,
   "metadata": {},
   "outputs": [],
   "source": [
    "data3 = pd.DataFrame({'x': df_music_select['absolute intensity'], \n",
    "'confounder': df_music_select['followersCount'], \n",
    "'y': np.log(df_music_select['engagement'])})\n"
   ]
  },
  {
   "cell_type": "code",
   "execution_count": 358,
   "metadata": {},
   "outputs": [
    {
     "ename": "NameError",
     "evalue": "name 'sklearn' is not defined",
     "output_type": "error",
     "traceback": [
      "\u001b[0;31m---------------------------------------------------------------------------\u001b[0m",
      "\u001b[0;31mNameError\u001b[0m                                 Traceback (most recent call last)",
      "Cell \u001b[0;32mIn[358], line 1\u001b[0m\n\u001b[0;32m----> 1\u001b[0m \u001b[43msklearn\u001b[49m\u001b[38;5;241m.\u001b[39mpreprocessing\u001b[38;5;241m.\u001b[39m__version__\n",
      "\u001b[0;31mNameError\u001b[0m: name 'sklearn' is not defined"
     ]
    }
   ],
   "source": [
    "sklearn.preprocessing.__version__"
   ]
  },
  {
   "cell_type": "code",
   "execution_count": null,
   "metadata": {},
   "outputs": [],
   "source": []
  },
  {
   "cell_type": "code",
   "execution_count": 299,
   "metadata": {},
   "outputs": [],
   "source": [
    "from sklearn.preprocessing import StandardScaler\n",
    "\n",
    "scaler = StandardScaler()\n",
    "\n",
    "# Fit the scaler to the dataframe\n",
    "scaler.fit(data3)\n",
    "\n",
    "# Scale the dataframe\n",
    "data3_scaled = pd.DataFrame(scaler.transform(data3), columns=data3.columns)\n"
   ]
  },
  {
   "cell_type": "code",
   "execution_count": 392,
   "metadata": {},
   "outputs": [
    {
     "name": "stdout",
     "output_type": "stream",
     "text": [
      "                            OLS Regression Results                            \n",
      "==============================================================================\n",
      "Dep. Variable:                      y   R-squared:                       0.020\n",
      "Model:                            OLS   Adj. R-squared:                  0.019\n",
      "Method:                 Least Squares   F-statistic:                     31.61\n",
      "Date:                Tue, 18 Apr 2023   Prob (F-statistic):           2.55e-14\n",
      "Time:                        12:34:03   Log-Likelihood:                -4482.3\n",
      "No. Observations:                3181   AIC:                             8971.\n",
      "Df Residuals:                    3178   BIC:                             8989.\n",
      "Df Model:                           2                                         \n",
      "Covariance Type:            nonrobust                                         \n",
      "==============================================================================\n",
      "                 coef    std err          t      P>|t|      [0.025      0.975]\n",
      "------------------------------------------------------------------------------\n",
      "Intercept  -1.034e-16      0.018  -5.89e-15      1.000      -0.034       0.034\n",
      "x              0.0438      0.018      2.496      0.013       0.009       0.078\n",
      "confounder     0.1320      0.018      7.514      0.000       0.098       0.166\n",
      "==============================================================================\n",
      "Omnibus:                     1160.427   Durbin-Watson:                   1.990\n",
      "Prob(Omnibus):                  0.000   Jarque-Bera (JB):             4439.233\n",
      "Skew:                           1.791   Prob(JB):                         0.00\n",
      "Kurtosis:                       7.546   Cond. No.                         1.01\n",
      "==============================================================================\n",
      "\n",
      "Notes:\n",
      "[1] Standard Errors assume that the covariance matrix of the errors is correctly specified.\n"
     ]
    }
   ],
   "source": [
    "model = smf.ols('y ~ x + confounder', data=data3_scaled).fit()\n",
    "\n",
    "# print the model summary\n",
    "print(model.summary())"
   ]
  },
  {
   "cell_type": "code",
   "execution_count": 360,
   "metadata": {},
   "outputs": [],
   "source": [
    "import matplotlib"
   ]
  },
  {
   "cell_type": "code",
   "execution_count": 361,
   "metadata": {},
   "outputs": [
    {
     "data": {
      "text/plain": [
       "'3.7.0'"
      ]
     },
     "execution_count": 361,
     "metadata": {},
     "output_type": "execute_result"
    }
   ],
   "source": [
    "matplotlib.__version__"
   ]
  },
  {
   "cell_type": "code",
   "execution_count": 364,
   "metadata": {},
   "outputs": [],
   "source": [
    "import sklearn"
   ]
  },
  {
   "cell_type": "code",
   "execution_count": 365,
   "metadata": {},
   "outputs": [
    {
     "data": {
      "text/plain": [
       "'1.2.1'"
      ]
     },
     "execution_count": 365,
     "metadata": {},
     "output_type": "execute_result"
    }
   ],
   "source": [
    "sklearn.__version__"
   ]
  },
  {
   "cell_type": "code",
   "execution_count": 71,
   "metadata": {},
   "outputs": [],
   "source": [
    "import seaborn as sns\n",
    "import matplotlib.pyplot as plt"
   ]
  },
  {
   "cell_type": "code",
   "execution_count": 17,
   "metadata": {},
   "outputs": [],
   "source": [
    "df_cont = df_abortion[['retweetCount', 'likeCount', 'replyCount','followersCount']]"
   ]
  },
  {
   "cell_type": "code",
   "execution_count": 19,
   "metadata": {},
   "outputs": [],
   "source": [
    "df_corr = df_cont.corr()"
   ]
  },
  {
   "cell_type": "code",
   "execution_count": 20,
   "metadata": {},
   "outputs": [
    {
     "data": {
      "text/plain": [
       "<Axes: >"
      ]
     },
     "execution_count": 20,
     "metadata": {},
     "output_type": "execute_result"
    },
    {
     "data": {
      "image/png": "[encoded data removed]",
      "text/plain": [
       "<Figure size 640x480 with 2 Axes>"
      ]
     },
     "metadata": {},
     "output_type": "display_data"
    }
   ],
   "source": [
    "sns.heatmap(df_corr, annot=True, cmap='coolwarm', vmin=-1, vmax=1)"
   ]
  },
  {
   "cell_type": "code",
   "execution_count": 15,
   "metadata": {},
   "outputs": [
    {
     "data": {
      "text/plain": [
       "[<matplotlib.lines.Line2D at 0x7f81ebf68880>]"
      ]
     },
     "execution_count": 15,
     "metadata": {},
     "output_type": "execute_result"
    },
    {
     "data": {
      "image/png": "[encoded data removed]",
      "text/plain": [
       "<Figure size 640x480 with 1 Axes>"
      ]
     },
     "metadata": {},
     "output_type": "display_data"
    }
   ],
   "source": [
    "plt.plot(df_abortion['followersCount'])"
   ]
  },
  {
   "cell_type": "code",
   "execution_count": 54,
   "metadata": {},
   "outputs": [],
   "source": [
    "import regex as re\n",
    "import contractions"
   ]
  },
  {
   "cell_type": "code",
   "execution_count": 65,
   "metadata": {},
   "outputs": [],
   "source": [
    "def clean_tweet(df):\n",
    "# make all text lowercase\n",
    "    tweet = df['Tweet'].str.lower()\n",
    "    clean_text = []\n",
    "\n",
    "    # clean text\n",
    "    for t in tweet:\n",
    "        # remove \\n\n",
    "        clean_t = re.sub(r\"\\n\", \" \", t)\n",
    "        # remove @account\n",
    "        clean_t = re.sub(r\"@[^\\s]+\", \"\", clean_t)\n",
    "        # remove hashtag\n",
    "        clean_t = re.sub(r\"#\", \"\", clean_t)\n",
    "        # remove urls\n",
    "        clean_t = re.sub(r\"(www[^\\s]+) | (http[^\\s]+)\", \"\", clean_t)\n",
    "        # remove &amp\n",
    "        clean_t = re.sub(r\"&amp\", \"\", clean_t)\n",
    "        # fix contractions\n",
    "        clean_t = contractions.fix(clean_t)\n",
    "        # remove punctuations\n",
    "        clean_t = re.sub(\"[^a-z0-9]\", \" \", clean_t)\n",
    "        # remove numbers\n",
    "        clean_t = re.sub(r\"\\d+\", \"\", clean_t)\n",
    "    \n",
    "        clean_text.append(clean_t)\n",
    "    \n",
    "    df['clean_tweet'] = clean_text"
   ]
  },
  {
   "cell_type": "code",
   "execution_count": 66,
   "metadata": {},
   "outputs": [],
   "source": [
    "clean_tweet(df_abortion)"
   ]
  },
  {
   "cell_type": "code",
   "execution_count": 75,
   "metadata": {},
   "outputs": [
    {
     "data": {
      "text/plain": [
       "'@catturd2 @Steph93065In21 @gatewaypundit Presler did great job, but Kelly was a weak candidate who said he didn’t want Trump’s endorsement, and abortion issue is problematic. Other races did well. Senate now can impeach with super majority. Cheap shot.'"
      ]
     },
     "execution_count": 75,
     "metadata": {},
     "output_type": "execute_result"
    }
   ],
   "source": [
    "df_abortion['Tweet'][5]"
   ]
  },
  {
   "cell_type": "code",
   "execution_count": null,
   "metadata": {},
   "outputs": [],
   "source": []
  }
 ],
 "metadata": {
  "kernelspec": {
   "display_name": "Python 3.10.9 ('base')",
   "language": "python",
   "name": "python3"
  },
  "language_info": {
   "codemirror_mode": {
    "name": "ipython",
    "version": 3
   },
   "file_extension": ".py",
   "mimetype": "text/x-python",
   "name": "python",
   "nbconvert_exporter": "python",
   "pygments_lexer": "ipython3",
   "version": "3.10.9"
  },
  "orig_nbformat": 4,
  "vscode": {
   "interpreter": {
    "hash": "1f759ffef1a6238f0cc7d082b1d1c10faeac2a7e5e5cd247bc6e13d55eb9f4e1"
   }
  }
 },
 "nbformat": 4,
 "nbformat_minor": 2
}
