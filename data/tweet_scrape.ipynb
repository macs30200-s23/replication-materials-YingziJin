{
 "cells": [
  {
   "cell_type": "code",
   "execution_count": null,
   "metadata": {},
   "outputs": [],
   "source": [
    "! pip install snscrape"
   ]
  },
  {
   "cell_type": "code",
   "execution_count": null,
   "metadata": {},
   "outputs": [],
   "source": [
    "import numpy as np"
   ]
  },
  {
   "cell_type": "code",
   "execution_count": null,
   "metadata": {},
   "outputs": [],
   "source": [
    "import snscrape.modules.twitter as sntwitter\n",
    "import pandas as pd"
   ]
  },
  {
   "cell_type": "code",
   "execution_count": null,
   "metadata": {},
   "outputs": [],
   "source": [
    "query_test = \"web scraping \"\n",
    "for tweet in sntwitter.TwitterSearchScraper(query_test).get_items():\n",
    "    items = vars(tweet)\n",
    "    break"
   ]
  },
  {
   "cell_type": "code",
   "execution_count": null,
   "metadata": {},
   "outputs": [],
   "source": [
    "from datetime import date, timedelta\n",
    "\n",
    "start_date = date(2022, 11, 1) \n",
    "end_date = date(2023, 4, 17)    # perhaps date.now()\n",
    "\n",
    "delta = end_date - start_date   # returns timedelta\n",
    "\n",
    "days = []\n",
    "\n",
    "for i in range(delta.days + 1):\n",
    "    day = str(start_date + timedelta(days=i))\n",
    "    days.append(day)"
   ]
  },
  {
   "cell_type": "code",
   "execution_count": null,
   "metadata": {},
   "outputs": [],
   "source": [
    "def scrape_tweets(query, limit):\n",
    "    tweets = []\n",
    "    for tweet in sntwitter.TwitterSearchScraper(query).get_items():\n",
    "        if len(tweets) == limit:\n",
    "            break\n",
    "        else:\n",
    "            tweets.append([tweet.date, tweet.user.username, tweet.rawContent,\n",
    "                        tweet.retweetCount, tweet.likeCount, tweet.replyCount,\n",
    "                        tweet.user.followersCount])\n",
    "\n",
    "    # df = pd.DataFrame(tweets, \n",
    "    #                   columns=['Date', 'User', 'Tweet', 'retweetCount', \n",
    "    #                            'likeCount', 'replyCount', 'followersCount'])\n",
    "    return tweets"
   ]
  },
  {
   "cell_type": "code",
   "execution_count": null,
   "metadata": {},
   "outputs": [],
   "source": [
    "tweets = []\n",
    "for i, day in enumerate(days):\n",
    "    if i < 10:\n",
    "        first_date = day\n",
    "        second_date = days[i+1]\n",
    "        time = \" since:\" + first_date + \" until:\" + second_date\n",
    "        query = keywords_random + lang + time\n",
    "        print(query)\n",
    "        tweet = scrape_tweets(query, 100)\n",
    "        tweets.extend(tweet)\n",
    "    else:\n",
    "        break"
   ]
  },
  {
   "cell_type": "code",
   "execution_count": null,
   "metadata": {},
   "outputs": [],
   "source": [
    "def scrape_daily(keywords, days, limit, language):\n",
    "    tweets = []\n",
    "    for i, day in enumerate(days):\n",
    "        if i < len(days) - 1:\n",
    "            first_date = day\n",
    "            second_date = days[i+1]\n",
    "            time = \" since:\" + first_date + \" until:\" + second_date\n",
    "            query = keywords + language + time\n",
    "            try:\n",
    "                tweet = scrape_tweets(query, limit)\n",
    "                print(time)\n",
    "            except:\n",
    "                return tweets\n",
    "            tweets.extend(tweet)\n",
    "    \n",
    "    # df = pd.DataFrame(tweets, \n",
    "    #                   columns=['Date', 'User', 'Tweet', 'retweetCount', \n",
    "    #                            'likeCount', 'replyCount', 'followersCount'])\n",
    "    \n",
    "    return tweets"
   ]
  },
  {
   "cell_type": "code",
   "execution_count": null,
   "metadata": {},
   "outputs": [],
   "source": [
    "keywords_random = \"(the) -abortion -miscarriage -music -movie\"\n",
    "keywords_abortion = \"(abortion OR miscarriage) -music -movie\"\n",
    "keywords_music = \"(music OR movie) -abortion -miscarriage\"\n",
    "\n",
    "lang = \" lang:en\"\n",
    "daily_limit = 30"
   ]
  },
  {
   "cell_type": "code",
   "execution_count": null,
   "metadata": {},
   "outputs": [],
   "source": [
    "tweets_random = scrape_daily(keywords_random, days, daily_limit, lang)"
   ]
  },
  {
   "cell_type": "code",
   "execution_count": null,
   "metadata": {},
   "outputs": [],
   "source": [
    "df_random = pd.DataFrame(tweets_random, \n",
    "                      columns=['Date', 'User', 'Tweet', 'retweetCount', \n",
    "                               'likeCount', 'replyCount', 'followersCount'])"
   ]
  },
  {
   "cell_type": "code",
   "execution_count": null,
   "metadata": {},
   "outputs": [],
   "source": [
    "df_random.to_csv('random_daily.csv')"
   ]
  },
  {
   "cell_type": "code",
   "execution_count": null,
   "metadata": {},
   "outputs": [],
   "source": [
    "tweets_music = scrape_daily(keywords_music, days, daily_limit, lang)"
   ]
  },
  {
   "cell_type": "code",
   "execution_count": null,
   "metadata": {},
   "outputs": [],
   "source": [
    "df_music = pd.DataFrame(tweets_music, \n",
    "                      columns=['Date', 'User', 'Tweet', 'retweetCount', \n",
    "                               'likeCount', 'replyCount', 'followersCount'])"
   ]
  },
  {
   "cell_type": "code",
   "execution_count": null,
   "metadata": {},
   "outputs": [],
   "source": [
    "tweets_abortion = scrape_daily(keywords_abortion, days, daily_limit, lang)"
   ]
  },
  {
   "cell_type": "code",
   "execution_count": null,
   "metadata": {},
   "outputs": [],
   "source": [
    "df_abortion = pd.DataFrame(tweets_abortion, \n",
    "                      columns=['Date', 'User', 'Tweet', 'retweetCount', \n",
    "                               'likeCount', 'replyCount', 'followersCount'])"
   ]
  },
  {
   "cell_type": "code",
   "execution_count": null,
   "metadata": {},
   "outputs": [],
   "source": [
    "! pip install vaderSentiment"
   ]
  },
  {
   "cell_type": "code",
   "execution_count": null,
   "metadata": {},
   "outputs": [],
   "source": [
    "from vaderSentiment.vaderSentiment import SentimentIntensityAnalyzer\n",
    "analyzer = SentimentIntensityAnalyzer()"
   ]
  },
  {
   "cell_type": "code",
   "execution_count": null,
   "metadata": {},
   "outputs": [],
   "source": [
    "def calculate_intensity(df):\n",
    "    results = []\n",
    "    for tweet in df['Tweet']:\n",
    "        vs = analyzer.polarity_scores(tweet)\n",
    "        results.append(vs)\n",
    "    \n",
    "    df_results = pd.DataFrame(results)\n",
    "    df_concat = pd.concat([df, df_results], axis=1)\n",
    "    df_concat['engagement'] = df_concat['retweetCount'] + df_concat['likeCount'] + df_concat['replyCount']\n",
    "    df_concat['absolute intensity'] = abs(df_concat['compound'])\n",
    "\n",
    "    return df_concat"
   ]
  },
  {
   "cell_type": "code",
   "execution_count": null,
   "metadata": {},
   "outputs": [],
   "source": [
    "df_random = calculate_intensity(df_random)"
   ]
  },
  {
   "cell_type": "code",
   "execution_count": null,
   "metadata": {},
   "outputs": [],
   "source": [
    "df_abortion =  calculate_intensity(df_abortion)"
   ]
  },
  {
   "cell_type": "code",
   "execution_count": null,
   "metadata": {},
   "outputs": [],
   "source": [
    "df_music = calculate_intensity(df_music)"
   ]
  },
  {
   "cell_type": "code",
   "execution_count": null,
   "metadata": {},
   "outputs": [],
   "source": [
    "df_random.to_csv('random.csv')\n",
    "df_abortion.to_csv('abortion.csv')\n",
    "df_music.to_csv('music.csv')"
   ]
  }
 ],
 "metadata": {
  "kernelspec": {
   "display_name": "Python 3.10.9 ('base')",
   "language": "python",
   "name": "python3"
  },
  "language_info": {
   "codemirror_mode": {
    "name": "ipython",
    "version": 3
   },
   "file_extension": ".py",
   "mimetype": "text/x-python",
   "name": "python",
   "nbconvert_exporter": "python",
   "pygments_lexer": "ipython3",
   "version": "3.10.9"
  },
  "orig_nbformat": 4,
  "vscode": {
   "interpreter": {
    "hash": "1f759ffef1a6238f0cc7d082b1d1c10faeac2a7e5e5cd247bc6e13d55eb9f4e1"
   }
  }
 },
 "nbformat": 4,
 "nbformat_minor": 2
}
